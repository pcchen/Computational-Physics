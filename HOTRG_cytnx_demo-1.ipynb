{
 "cells": [
  {
   "cell_type": "markdown",
   "id": "2e1d01dc-311e-44f0-8f71-cff6920aeeef",
   "metadata": {},
   "source": [
    "# HOTRG (cytnx version)\n",
    "\n",
    "* Author: Pochung Chen\n",
    "* Last update: 2022/5/16\n",
    "* Α α, Β β, Γ γ, Δ δ, Ε ε, Ζ ζ, Η η, Θ θ, Ι ι, Κ κ, Λ λ, Μ μ, Ν ν, Ξ ξ, Ο ο, Π π, Ρ ρ, Σ σ/ς, Τ τ, Υ υ, Φ φ, Χ χ, Ψ ψ, and Ω ω"
   ]
  },
  {
   "cell_type": "markdown",
   "id": "8ce21d98-eae3-427a-a036-991d32cb25d2",
   "metadata": {},
   "source": [
    "Two site Hamiltonian: \n",
    "$$ \\large\n",
    "  E(s_1, s_2) = -Js_1 s_2\n",
    "$$\n",
    "\n",
    "Boltzmann weight on the bond:\n",
    "$$ \\large\n",
    "  W = e^{-\\beta E} = \n",
    "  \\left[ \\begin{array}{cc}\n",
    "  e^{+\\beta J} & e^{-\\beta J} \\\\\n",
    "  e^{-\\beta J} & e^{+\\beta J}\n",
    "  \\end{array} \\right]\n",
    "$$\n",
    "\n",
    "Decompose $W$ as $M M^\\dagger$, where\n",
    "$$ \\large\n",
    "  W = e^{-\\beta E} = M M^\\dagger,\n",
    "  M = \n",
    "  \\left[ \\begin{array}{cc}\n",
    "  +\\sqrt{\\cosh{\\beta J}} & +\\sqrt{\\sinh{\\beta J}} \\\\\n",
    "  +\\sqrt{\\cosh{\\beta J}} & -\\sqrt{\\sinh{\\beta J}}\n",
    "  \\end{array} \\right]\n",
    "$$\n",
    "\n",
    "Numerically, we first perform SVD on $W$ to obtain $M$ and $M^\\dagger$:\n",
    "$$ \\large\n",
    "  W = U S V^\\dagger \\rightarrow\n",
    "  M = U \\sqrt{S}, M^\\dagger = \\sqrt{S} U^\\dagger.\n",
    "$$\n",
    "Note that because $W$ is Hermitian, on has $V=U$.\n",
    "\n",
    "$$ \\large\n",
    "  T_{ijkl} = \\sum_\\alpha\n",
    "  M_{\\alpha, i} M_{\\alpha, j} M_{\\alpha, k} M_{\\alpha, l}\n",
    "$$"
   ]
  },
  {
   "cell_type": "markdown",
   "id": "73836ad3-e338-4dcf-a0a6-daceb2a50505",
   "metadata": {},
   "source": [
    "## Cytnx cheat sheet\n",
    "\n",
    "* numpy <-> cytnx.tensor <-> cytnx.UniTensor"
   ]
  },
  {
   "cell_type": "code",
   "execution_count": 1,
   "id": "3e95057a-fe3c-4b3d-8bdd-f77f401205a6",
   "metadata": {},
   "outputs": [],
   "source": [
    "import numpy as np\n",
    "import cytnx"
   ]
  },
  {
   "cell_type": "code",
   "execution_count": 2,
   "id": "81129b71-42fe-4eab-82fa-d5f66d3ce857",
   "metadata": {},
   "outputs": [],
   "source": [
    "def ut_print(ut):\n",
    "    ut.print_diagram()\n",
    "    print(ut.get_block().numpy())"
   ]
  },
  {
   "cell_type": "markdown",
   "id": "77a4ce12-40bc-446b-a47f-13a6a2c2ad19",
   "metadata": {},
   "source": [
    "## Constrauct $M$"
   ]
  },
  {
   "cell_type": "code",
   "execution_count": 3,
   "id": "236dfab8-ef2d-4534-9791-9734d616ea60",
   "metadata": {},
   "outputs": [
    {
     "data": {
      "text/plain": [
       "array([[2.71828183, 0.36787944],\n",
       "       [0.36787944, 2.71828183]])"
      ]
     },
     "execution_count": 3,
     "metadata": {},
     "output_type": "execute_result"
    }
   ],
   "source": [
    "def W0_(T):\n",
    "    W0 = np.array([[np.exp(+1/T),np.exp(-1/T)],\n",
    "                   [np.exp(-1/T),np.exp(+1/T)]])\n",
    "    return W0\n",
    "W0_(1.0)"
   ]
  },
  {
   "cell_type": "code",
   "execution_count": 4,
   "id": "6f7bfd56-5ee5-4498-b8ae-a50a1903a006",
   "metadata": {},
   "outputs": [
    {
     "name": "stdout",
     "output_type": "stream",
     "text": [
      "s=\n",
      " [3.08616127 2.35040239]\n"
     ]
    },
    {
     "data": {
      "text/plain": [
       "array([[-1.24220797, -1.08406697],\n",
       "       [-1.24220797,  1.08406697]])"
      ]
     },
     "execution_count": 4,
     "metadata": {},
     "output_type": "execute_result"
    }
   ],
   "source": [
    "u, s, vd = np.linalg.svd(W0_(1.0))\n",
    "print('s=\\n', s)\n",
    "\n",
    "u @ np.diag(np.sqrt(s))"
   ]
  },
  {
   "cell_type": "code",
   "execution_count": 5,
   "id": "4bf0728b-c0e2-4274-8f2e-51e7a11fb3de",
   "metadata": {},
   "outputs": [
    {
     "name": "stdout",
     "output_type": "stream",
     "text": [
      "[M0]=\n",
      " [[ 1.24220797  1.08406697]\n",
      " [ 1.24220797 -1.08406697]]\n",
      "[M0][M0d]=\n",
      " [[2.71828183 0.36787944]\n",
      " [0.36787944 2.71828183]]\n",
      "[M0][M0d]-[W0]=\n",
      " [[ 0.00000000e+00 -3.88578059e-16]\n",
      " [-3.88578059e-16  0.00000000e+00]]\n"
     ]
    }
   ],
   "source": [
    "def M0_(T):\n",
    "    M0 = np.array([[+np.sqrt(np.cosh(1/T)), +np.sqrt(np.sinh(1/T))],\n",
    "                   [+np.sqrt(np.cosh(1/T)), -np.sqrt(np.sinh(1/T))]])\n",
    "    return M0\n",
    "\n",
    "a_M0 = M0_(1)\n",
    "print('[M0]=\\n', a_M0)\n",
    "print('[M0][M0d]=\\n', a_M0 @ a_M0.transpose())\n",
    "print('[M0][M0d]-[W0]=\\n', a_M0 @ a_M0.transpose()-W0_(1.0))"
   ]
  },
  {
   "cell_type": "code",
   "execution_count": 6,
   "id": "e94a25bf-6f47-4ada-9798-42974cdce8d2",
   "metadata": {},
   "outputs": [
    {
     "name": "stdout",
     "output_type": "stream",
     "text": [
      "ut_M=\n",
      "-----------------------\n",
      "tensor Name : M\n",
      "tensor Rank : 2\n",
      "block_form  : false\n",
      "is_diag     : False\n",
      "on device   : cytnx device: CPU\n",
      "            -------------      \n",
      "           /             \\     \n",
      "     0 ____| 2         2 |____ 1  \n",
      "           \\             /     \n",
      "            -------------      \n",
      "[[-1.24220797 -1.08406697]\n",
      " [-1.24220797  1.08406697]]\n",
      "ut_Md=\n",
      "-----------------------\n",
      "tensor Name : M†\n",
      "tensor Rank : 2\n",
      "block_form  : false\n",
      "is_diag     : False\n",
      "on device   : cytnx device: CPU\n",
      "            -------------      \n",
      "           /             \\     \n",
      "     0 ____| 2         2 |____ 1  \n",
      "           \\             /     \n",
      "            -------------      \n",
      "[[-1.24220797 -1.24220797]\n",
      " [-1.08406697  1.08406697]]\n"
     ]
    }
   ],
   "source": [
    "def M_(T,h):\n",
    "    W = np.array([[np.exp(1/T), np.exp(-1/T)],\n",
    "                  [np.exp(-1/T), np.exp(1/T)]])\n",
    "    W = cytnx.from_numpy(W)\n",
    "    # S, U, Vd = cytnx.linalg.Svd(W)\n",
    "    S, U, Vd = W.Svd()\n",
    "    M = U @ cytnx.linalg.Diag(S.Pow(0.5))\n",
    "    Md = cytnx.linalg.Diag(S.Pow(0.5)) @ Vd\n",
    "    M = cytnx.UniTensor(M, rowrank=1)\n",
    "    M.set_name('M')\n",
    "    Md = cytnx.UniTensor(Md, rowrank=1)\n",
    "    Md.set_name('M†')    \n",
    "    return M, Md\n",
    "\n",
    "ut_M, ut_Md = M_(1,0)\n",
    "\n",
    "print('ut_M=')\n",
    "ut_print(ut_M)\n",
    "\n",
    "print('ut_Md=')\n",
    "ut_print(ut_Md)"
   ]
  },
  {
   "cell_type": "code",
   "execution_count": 7,
   "id": "968d47ed-3592-44f9-a933-b7d72fbca40d",
   "metadata": {},
   "outputs": [
    {
     "name": "stdout",
     "output_type": "stream",
     "text": [
      "-----------------------\n",
      "tensor Name : M†\n",
      "tensor Rank : 2\n",
      "block_form  : false\n",
      "is_diag     : False\n",
      "on device   : cytnx device: CPU\n",
      "            -------------      \n",
      "           /             \\     \n",
      "     1 ____| 2         2 |____ 2  \n",
      "           \\             /     \n",
      "            -------------      \n",
      "[[-1.24220797 -1.24220797]\n",
      " [-1.08406697  1.08406697]]\n"
     ]
    }
   ],
   "source": [
    "ut_Md.set_labels((1,2))\n",
    "ut_print(ut_Md)"
   ]
  },
  {
   "cell_type": "code",
   "execution_count": 8,
   "id": "edee8664-4394-4446-856d-9e0ef9556da5",
   "metadata": {},
   "outputs": [
    {
     "name": "stdout",
     "output_type": "stream",
     "text": [
      "[[2.71828183 0.36787944]\n",
      " [0.36787944 2.71828183]]\n",
      "-----------------------\n",
      "tensor Name : \n",
      "tensor Rank : 2\n",
      "block_form  : false\n",
      "is_diag     : False\n",
      "on device   : cytnx device: CPU\n",
      "            -------------      \n",
      "           /             \\     \n",
      "     0 ____| 2         2 |____ 2  \n",
      "           \\             /     \n",
      "            -------------      \n",
      "[[2.71828183 0.36787944]\n",
      " [0.36787944 2.71828183]]\n"
     ]
    }
   ],
   "source": [
    "print(W0_(1.0))\n",
    "ut_print(cytnx.Contract(ut_M, ut_Md))"
   ]
  },
  {
   "cell_type": "markdown",
   "id": "d0889749-04bb-42e7-a236-5dcc08afc75c",
   "metadata": {},
   "source": [
    "## Construct $T_{bare}$"
   ]
  },
  {
   "cell_type": "code",
   "execution_count": 9,
   "id": "84470d59-2dc8-46d1-bc40-d70421e8befd",
   "metadata": {},
   "outputs": [
    {
     "name": "stdout",
     "output_type": "stream",
     "text": [
      "-----------------------\n",
      "tensor Name : ẟ\n",
      "tensor Rank : 4\n",
      "block_form  : false\n",
      "is_diag     : False\n",
      "on device   : cytnx device: CPU\n",
      "            -------------      \n",
      "           /             \\     \n",
      "     0 ____| 2         2 |____ 2  \n",
      "           |             |     \n",
      "     1 ____| 2         2 |____ 3  \n",
      "           \\             /     \n",
      "            -------------      \n",
      "[[[[1. 0.]\n",
      "   [0. 0.]]\n",
      "\n",
      "  [[0. 0.]\n",
      "   [0. 0.]]]\n",
      "\n",
      "\n",
      " [[[0. 0.]\n",
      "   [0. 0.]]\n",
      "\n",
      "  [[0. 0.]\n",
      "   [0. 1.]]]]\n"
     ]
    }
   ],
   "source": [
    "def delta_():\n",
    "    delta = cytnx.zeros([2,2,2,2])\n",
    "    delta[0,0,0,0]= 1.0\n",
    "    delta[1,1,1,1]= 1.0\n",
    "    delta = cytnx.UniTensor(delta, rowrank=2)\n",
    "    delta.set_name('ẟ')\n",
    "    return delta\n",
    "\n",
    "ut_delta = delta_()\n",
    "# print(ut_delta.get_block().numpy())\n",
    "# ut_delta.print_diagram()\n",
    "ut_print(ut_delta)"
   ]
  },
  {
   "cell_type": "code",
   "execution_count": 10,
   "id": "66beb26f-e899-4b2f-8a9e-8082dd8859dc",
   "metadata": {},
   "outputs": [
    {
     "name": "stdout",
     "output_type": "stream",
     "text": [
      "-----------------------\n",
      "tensor Name : T_bare\n",
      "tensor Rank : 4\n",
      "block_form  : false\n",
      "is_diag     : False\n",
      "on device   : cytnx device: CPU\n",
      "            -------------      \n",
      "           /             \\     \n",
      "     0 ____| 2         2 |____ 2  \n",
      "           |             |     \n",
      "     1 ____| 2         2 |____ 3  \n",
      "           \\             /     \n",
      "            -------------      \n",
      "[[[[ 4.76219569e+00  2.32739908e-15]\n",
      "   [ 2.32739908e-15  3.62686041e+00]]\n",
      "\n",
      "  [[ 2.05157350e-15  3.62686041e+00]\n",
      "   [ 3.62686041e+00 -3.01055929e-15]]]\n",
      "\n",
      "\n",
      " [[[ 2.16101918e-15  3.62686041e+00]\n",
      "   [ 3.62686041e+00 -3.21683176e-15]]\n",
      "\n",
      "  [[ 3.62686041e+00 -2.77274255e-15]\n",
      "   [-2.77274255e-15  2.76219569e+00]]]]\n"
     ]
    }
   ],
   "source": [
    "def T_bare_(T, h):\n",
    "    ut_M, ut_Md = M_(T, h)\n",
    "    ut_delta = delta_()\n",
    "    Ising_net = cytnx.Network('Networks/Ising_square.net')\n",
    "    Ising_net.PutUniTensors(['delta', 'M0.d', 'M1.d', 'M2', 'M3'],\n",
    "                            [ut_delta, ut_Md, ut_Md, ut_M, ut_M])\n",
    "    T_bare = Ising_net.Launch(optimal=True)\n",
    "    T_bare.set_name('T_bare')\n",
    "    return T_bare\n",
    "\n",
    "ut_T = T_bare_(1, 0)\n",
    "# ut_T.print_diagram()\n",
    "# ut_T.get_block().numpy()\n",
    "ut_print(ut_T)"
   ]
  },
  {
   "cell_type": "code",
   "execution_count": 11,
   "id": "14d58498-3aa4-4bbf-9f0d-a5bd35afcd8d",
   "metadata": {},
   "outputs": [
    {
     "data": {
      "text/plain": [
       "array([[[[4.76219569, 0.        ],\n",
       "         [0.        , 3.62686041]],\n",
       "\n",
       "        [[0.        , 3.62686041],\n",
       "         [3.62686041, 0.        ]]],\n",
       "\n",
       "\n",
       "       [[[0.        , 3.62686041],\n",
       "         [3.62686041, 0.        ]],\n",
       "\n",
       "        [[3.62686041, 0.        ],\n",
       "         [0.        , 2.76219569]]]])"
      ]
     },
     "execution_count": 11,
     "metadata": {},
     "output_type": "execute_result"
    }
   ],
   "source": [
    "a_M0 = M0_(1)\n",
    "a_T = np.zeros((2,2,2,2))\n",
    "for i in range(2):\n",
    "    for j in range(2):\n",
    "        for k in range(2):\n",
    "            for l in range(2):\n",
    "                a_T[i,j,k,l]=a_M0[0,i]*a_M0[0,j]*a_M0[0,k]*a_M0[0,l]+a_M0[1,i]*a_M0[1,j]*a_M0[1,k]*a_M0[1,l]\n",
    "a_T "
   ]
  },
  {
   "cell_type": "code",
   "execution_count": 12,
   "id": "0a1366b3-9ec9-40c0-a46f-6f080c7b13f1",
   "metadata": {},
   "outputs": [
    {
     "name": "stdout",
     "output_type": "stream",
     "text": [
      "==== Network ====\n",
      "[x] Tu : 0 1 ; 3 -1 \n",
      "[x] Td : -1 2 ; 4 5 \n",
      "TOUT : 0 1 2 ; 3 4 5 \n",
      "ORDER : \n",
      "=================\n",
      "\n"
     ]
    }
   ],
   "source": [
    "ymerge_net = cytnx.Network('Networks/merge_two_y.net')\n",
    "print(ymerge_net)"
   ]
  },
  {
   "cell_type": "code",
   "execution_count": 13,
   "id": "d37b8ea4-8569-4313-ad1d-6499a93b6228",
   "metadata": {},
   "outputs": [
    {
     "name": "stdout",
     "output_type": "stream",
     "text": [
      "-----------------------\n",
      "tensor Name : \n",
      "tensor Rank : 6\n",
      "block_form  : false\n",
      "is_diag     : False\n",
      "on device   : cytnx device: CPU\n",
      "            -------------      \n",
      "           /             \\     \n",
      "     0 ____| 2         2 |____ 3  \n",
      "           |             |     \n",
      "     1 ____| 2         2 |____ 4  \n",
      "           |             |     \n",
      "     2 ____| 2         2 |____ 5  \n",
      "           \\             /     \n",
      "            -------------      \n"
     ]
    }
   ],
   "source": [
    "ymerge_net.PutUniTensors(['Tu', 'Td'], [ut_T, ut_T])\n",
    "ut_Tupdn = ymerge_net.Launch(optimal=True)\n",
    "ut_Tupdn.print_diagram()"
   ]
  },
  {
   "cell_type": "code",
   "execution_count": 14,
   "id": "4e86beb5-b7a3-4f81-bc69-7b30dc8b01a7",
   "metadata": {},
   "outputs": [
    {
     "data": {
      "text/plain": [
       "array([ 0.94512664,  0.98168436, 53.59815003, 55.67133903])"
      ]
     },
     "execution_count": 14,
     "metadata": {},
     "output_type": "execute_result"
    }
   ],
   "source": [
    "TM = ut_Tupdn.Trace(0, 5, by_label=True)\n",
    "TM = TM.get_block()\n",
    "TM.reshape_(4,4)\n",
    "λ, U = cytnx.linalg.Eigh(TM)\n",
    "λ.numpy()"
   ]
  },
  {
   "cell_type": "code",
   "execution_count": 15,
   "id": "d595fd9f-47a9-4e23-b42b-2bd1214a5f80",
   "metadata": {},
   "outputs": [
    {
     "data": {
      "text/plain": [
       "array([ 0.05643635,  0.01848545, -3.98151455, -4.01946545])"
      ]
     },
     "execution_count": 15,
     "metadata": {},
     "output_type": "execute_result"
    }
   ],
   "source": [
    "E = -np.log(λ.numpy())\n",
    "E"
   ]
  }
 ],
 "metadata": {
  "kernelspec": {
   "display_name": "Python 3 (ipykernel)",
   "language": "python",
   "name": "python3"
  },
  "language_info": {
   "codemirror_mode": {
    "name": "ipython",
    "version": 3
   },
   "file_extension": ".py",
   "mimetype": "text/x-python",
   "name": "python",
   "nbconvert_exporter": "python",
   "pygments_lexer": "ipython3",
   "version": "3.9.5"
  }
 },
 "nbformat": 4,
 "nbformat_minor": 5
}
