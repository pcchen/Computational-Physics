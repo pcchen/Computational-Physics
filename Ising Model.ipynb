{
 "cells": [
  {
   "cell_type": "markdown",
   "metadata": {},
   "source": [
    "# Ising Model\n",
    "\n",
    "* Author: Pochung Chen\n",
    "* Last update: 2022/3/6\n",
    "\n",
    "## References\n",
    "* Kim Christensen and Nicholas R. Moloney, Complexity and Criticality, 1st Edition, (2005)"
   ]
  },
  {
   "cell_type": "markdown",
   "metadata": {},
   "source": [
    "## Notations\n",
    "* $J=1$ as the energy unit.\n",
    "* $k_B=1$ for convenience.\n",
    "* $\\beta=1/(k_B T)$ is the inverset temperature.\n",
    "* $B$ is the external field.\n",
    "* $\\sigma_i = \\pm 1$ is the clasical Ising spin."
   ]
  },
  {
   "cell_type": "code",
   "execution_count": 1,
   "metadata": {},
   "outputs": [],
   "source": [
    "J = 1.0\n",
    "kB = 1.0"
   ]
  },
  {
   "cell_type": "markdown",
   "metadata": {},
   "source": [
    "## One-dimensional (1D), periodic boundary condition (PBC)"
   ]
  },
  {
   "cell_type": "markdown",
   "metadata": {},
   "source": [
    "### Hamiltonian:\n",
    "\n",
    "$$ \\large\n",
    "  H[\\{\\sigma_i\\}] = -J\\sum_i \\sigma_i \\sigma_{i+1} - B\\sum_i \\sigma_i = -J\\sum_i \\sigma_i \\sigma_{i+1} - \\frac{B}{2}\\sum_i (\\sigma_i+\\sigma_{i+1}).\n",
    "$$"
   ]
  },
  {
   "cell_type": "markdown",
   "metadata": {},
   "source": [
    "### Partition function:\n",
    "\n",
    "$$ \\large\n",
    "  Z(T,B)\n",
    "  = \\sum_{\\sigma_i} e^{-\\beta H[{\\sigma_i}]} \n",
    "  = \\sum_{\\sigma_i} e^{\\beta J\\sum_i \\sigma_i \\sigma_{i+1} + \\beta \\frac{B}{2}\\sum_i (\\sigma_i+\\sigma_{i+1})}\n",
    "$$\n",
    "\n",
    "$$ \\large\n",
    "  Z(T,B)\n",
    "  = \\sum_{\\sigma_i} \n",
    "  \\left( e^{\\beta J \\sigma_1 \\sigma_2 + \\beta \\frac{B}{2}(\\sigma_1+\\sigma_2)} \\right)\n",
    "  \\left( e^{\\beta J \\sigma_2 \\sigma_3 + \\beta \\frac{B}{2}(\\sigma_2+\\sigma_3)} \\right) \\cdots\n",
    "  \\left( e^{\\beta J \\sigma_N \\sigma_1 + \\beta \\frac{B}{2}(\\sigma_N+\\sigma_1)} \\right)\n",
    "$$"
   ]
  },
  {
   "cell_type": "markdown",
   "metadata": {},
   "source": [
    "### Transfer matrix\n",
    "\n",
    "Define symmetric $2\\times 2$ transfer matrix $\\mathbf{T}$\n",
    "\n",
    "$$ \\large\n",
    "  T_{\\sigma_i,\\sigma_{i+1}} \\equiv e^{\\beta J \\sigma_i \\sigma_{i+1} + \\beta \\frac{B}{2}(\\sigma_i+\\sigma_{i+1})}\n",
    "$$\n",
    "\n",
    "so that\n",
    "\n",
    "$$ \\large\n",
    "  \\mathbf{T} = \n",
    "  \\left( \\begin{array}{cc}\n",
    "    T_{+1,+1} & T_{+1,-1} \\\\\n",
    "    T_{-1,+1} & T_{-1,-1}\n",
    "  \\end{array} \\right) =\n",
    "  \\left( \\begin{array}{cc}\n",
    "    e^{\\beta J+\\beta B} & e^{-\\beta J} \\\\\n",
    "    e^{-\\beta J} & e^{\\beta J-\\beta B}\n",
    "  \\end{array} \\right)    \n",
    "$$"
   ]
  },
  {
   "cell_type": "markdown",
   "metadata": {},
   "source": [
    "### Partition function in terms of the transfer matrix\n",
    "\n",
    "$$ \\large\n",
    "  Z = \\sum_{\\sigma_1=\\pm1} \\sum_{\\sigma_2=\\pm1} \\cdots \\sum_{\\sigma_N=\\pm1} T_{\\sigma_1,\\sigma_2} T_{\\sigma_2,\\sigma_3} \\cdots T_{\\sigma_N,\\sigma_1}\n",
    "  = \\sum_{\\sigma_1} \\mathbf{T}^N_{\\sigma_1,\\sigma_1} = \\text{Tr}(\\mathbf{T}^N).\n",
    "$$"
   ]
  },
  {
   "cell_type": "markdown",
   "metadata": {},
   "source": [
    "### Diagonalize a real, symmetric matrix $\\mathbf{T}$ by a $2\\times 2$ unitary matrix $\\mathbf{U}$:\n",
    "\n",
    "$$ \\large\n",
    "  \\mathbf{U}^{-1}\\mathbf{T}\\mathbf{U}=\n",
    "  \\left( \\begin{array}{cc}\n",
    "  \\lambda_+ & 0 \\\\\n",
    "  0 & \\lambda_-\n",
    "  \\end{array} \\right),\n",
    "$$\n",
    "where $\\lambda_+ > \\lambda_-$. \n",
    "\n",
    "So that\n",
    "$$ \\large\n",
    "  Z = \\text{Tr}(\\mathbf{T}^N) = \\text{Tr}(\\mathbf{U}^N) = \\lambda^N_+ + \\lambda^N_- ,\n",
    "$$\n",
    "where\n",
    "$$ \\large\n",
    "  \\lambda_\\pm \n",
    "  = e^{\\beta J} \\cosh(\\beta B) \\pm \\sqrt{e^{-2\\beta J}+e^{2\\beta J}\\sinh^2(\\beta B)}\n",
    "  = e^{\\beta J} \\left[\n",
    "  \\cosh(\\beta B) \\pm \\sqrt{\\sinh^2(\\beta B) + e^{-4\\beta J}}\n",
    "  \\right]\n",
    "$$"
   ]
  },
  {
   "cell_type": "markdown",
   "metadata": {},
   "source": [
    "### Thermodynamic limit\n",
    "\n",
    "In the thermodynamic limit\n",
    "\n",
    "$$ \\large\n",
    "  \\lim_{N\\rightarrow \\infty} Z = \n",
    "  \\lambda_+^N \\left( 1 +  \\left( \\frac{\\lambda_-}{\\lambda_+}\\right)^N \\right) = \\lambda_+^N.  \n",
    "$$"
   ]
  },
  {
   "cell_type": "markdown",
   "metadata": {},
   "source": [
    "### Correlation\n",
    "\n",
    "$$ \\large\n",
    "  \\langle \\sigma_1 \\sigma_3 \\rangle = \\frac{1}{Z_N}\n",
    "  \\sum_{\\sigma_1=\\pm1} \\sum_{\\sigma_2=\\pm1} \\cdots \\sum_{\\sigma_N=\\pm1} \\sigma_1 T_{\\sigma_1,\\sigma_2} T_{\\sigma_2,\\sigma_3} \\sigma_3 T_{\\sigma_3, \\sigma_4} \\cdots T_{\\sigma_N,\\sigma_1}\n",
    "  = \\sum_{\\sigma_1} \\mathbf{T}^N_{\\sigma_1,\\sigma_1}.\n",
    "$$\n",
    "\n",
    "Define\n",
    "$$ \\large\n",
    "  T^z_{\\sigma, \\sigma^\\prime}=\\sigma \\delta_{\\sigma, \\sigma^\\prime}\n",
    "$$\n",
    "$$ \\large\n",
    "  \\mathbf{T^z} = \n",
    "  \\left( \\begin{array}{cc}\n",
    "    +1 & 0 \\\\\n",
    "    0 & -1\n",
    "  \\end{array} \\right)    \n",
    "$$\n",
    "\n",
    "We find\n",
    "$$ \\large\n",
    "  \\langle \\sigma_i \\sigma_j \\rangle = \\frac{1}{Z_N} \\text{Tr}(\\mathbf{T^z}\\mathbf{T^{j-i}}\\mathbf{T^z} \\mathbf{T}^{N+i-j}).\n",
    "$$\n",
    "$$ \\large\n",
    "  \\langle \\sigma_i \\rangle = \\frac{1}{Z_N} \\text{Tr}(\\mathbf{T^z}\\mathbf{T^{N}}).\n",
    "$$"
   ]
  },
  {
   "cell_type": "markdown",
   "metadata": {},
   "source": [
    "### $U$ matrix\n",
    "\n",
    "Define $\\phi$ by the equation\n",
    "\n",
    "$$ \\large\n",
    " \\cot(2\\phi) = 2^{\\beta J} \\sinh(\\beta B),\n",
    "$$\n",
    "where $0 < \\phi < \\pi/2$. Theun $U$ can be expressed as\n",
    "$$ \\large\n",
    "U = \n",
    "\\left( \\begin{array}{cc} \n",
    "  \\cos(\\phi) & -\\sin(\\phi) \\\\\n",
    "  \\sin(\\phi) & \\cos(\\phi)\n",
    "\\end{array} \\right)\n",
    "$$"
   ]
  },
  {
   "cell_type": "markdown",
   "metadata": {},
   "source": [
    "### Thermodynamic limit\n",
    "\n",
    "In the thermodynamic limit\n",
    "\n",
    "$$ \\large\n",
    "  \\langle \\sigma_i \\sigma_j \\rangle = \\cos(2\\phi)^2+\\sin(2\\phi)^2 \\left(\\frac{\\lambda_-}{\\lambda_+} \\right)^{j-i} \n",
    "  = \\langle \\sigma_i\\rangle \\langle \\sigma_j \\rangle +\\sin(2\\phi)^2 \\left(\\frac{\\lambda_-}{\\lambda_+} \\right)^{j-i} .\n",
    "$$\n",
    "$$ \\large\n",
    "  \\langle \\sigma_i \\rangle = \\cos(2\\phi).\n",
    "$$"
   ]
  },
  {
   "cell_type": "markdown",
   "metadata": {},
   "source": [
    "### Correlation length\n",
    "\n",
    "$$ \\large\n",
    "  \\xi = \\frac{1}{\\ln \\left( \\frac{\\lambda_+}{\\lambda_-} \\right)}\n",
    "$$"
   ]
  },
  {
   "cell_type": "code",
   "execution_count": null,
   "metadata": {},
   "outputs": [],
   "source": []
  }
 ],
 "metadata": {
  "kernelspec": {
   "display_name": "Python 3 (ipykernel)",
   "language": "python",
   "name": "python3"
  },
  "language_info": {
   "codemirror_mode": {
    "name": "ipython",
    "version": 3
   },
   "file_extension": ".py",
   "mimetype": "text/x-python",
   "name": "python",
   "nbconvert_exporter": "python",
   "pygments_lexer": "ipython3",
   "version": "3.9.5"
  }
 },
 "nbformat": 4,
 "nbformat_minor": 4
}
