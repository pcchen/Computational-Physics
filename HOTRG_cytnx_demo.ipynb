{
 "cells": [
  {
   "cell_type": "markdown",
   "id": "2e1d01dc-311e-44f0-8f71-cff6920aeeef",
   "metadata": {},
   "source": [
    "# HOTRG (cytnx version)\n",
    "\n",
    "* Author: Pochung Chen\n",
    "* Last update: 2022/5/9\n",
    "* Α α, Β β, Γ γ, Δ δ, Ε ε, Ζ ζ, Η η, Θ θ, Ι ι, Κ κ, Λ λ, Μ μ, Ν ν, Ξ ξ, Ο ο, Π π, Ρ ρ, Σ σ/ς, Τ τ, Υ υ, Φ φ, Χ χ, Ψ ψ, and Ω ω."
   ]
  },
  {
   "cell_type": "markdown",
   "id": "8ce21d98-eae3-427a-a036-991d32cb25d2",
   "metadata": {},
   "source": [
    "Two site Hamiltonian: \n",
    "$$ \\large\n",
    "  E(s_1, s_2) = -Js_1 s_2\n",
    "$$\n",
    "\n",
    "Boltzmann weight on the bond:\n",
    "$$ \\large\n",
    "  W = e^{-\\beta E} = \n",
    "  \\left[ \\begin{array}{cc}\n",
    "  e^{+\\beta J} & e^{-\\beta J} \\\\\n",
    "  e^{-\\beta J} & e^{+\\beta J}\n",
    "  \\end{array} \\right]\n",
    "$$\n",
    "\n",
    "Decompose $W$ as $M M^\\dagger$, where\n",
    "$$ \\large\n",
    "  W = e^{-\\beta E} = M M^\\dagger,\n",
    "  M = \n",
    "  \\left[ \\begin{array}{cc}\n",
    "  +\\sqrt{\\cosh{\\beta J}} & +\\sqrt{\\sinh{\\beta J}} \\\\\n",
    "  +\\sqrt{\\cosh{\\beta J}} & -\\sqrt{\\sinh{\\beta J}}\n",
    "  \\end{array} \\right]\n",
    "$$\n",
    "\n",
    "Numerically, we first perform SVD on $W$ to obtain $M$ and $M^\\dagger$:\n",
    "$$ \\large\n",
    "  W = U S V^\\dagger \\rightarrow\n",
    "  M = U \\sqrt{S}, M^\\dagger = \\sqrt{S} U^\\dagger.\n",
    "$$\n",
    "Note that because $W$ is Hermitian, on has $V=U$.\n",
    "\n",
    "$$ \\large\n",
    "  T_{ijkl} = \\sum_\\alpha\n",
    "  M_{\\alpha, i} M_{\\alpha, j} M_{\\alpha, k} M_{\\alpha, l}\n",
    "$$"
   ]
  },
  {
   "cell_type": "code",
   "execution_count": 1,
   "id": "3e95057a-fe3c-4b3d-8bdd-f77f401205a6",
   "metadata": {},
   "outputs": [],
   "source": [
    "import numpy as np\n",
    "import cytnx"
   ]
  },
  {
   "cell_type": "code",
   "execution_count": 2,
   "id": "81129b71-42fe-4eab-82fa-d5f66d3ce857",
   "metadata": {},
   "outputs": [],
   "source": [
    "def ut_print(ut):\n",
    "    ut.print_diagram()\n",
    "    print(ut.get_block().numpy())"
   ]
  },
  {
   "cell_type": "markdown",
   "id": "77a4ce12-40bc-446b-a47f-13a6a2c2ad19",
   "metadata": {
    "tags": []
   },
   "source": [
    "## Constrauct $M$"
   ]
  },
  {
   "cell_type": "markdown",
   "id": "4a4706e7-e78b-4235-ab15-3ab9dd0b9205",
   "metadata": {},
   "source": [
    "### numpy version"
   ]
  },
  {
   "cell_type": "markdown",
   "id": "2d805697-000a-4ebd-8f91-b2229262f3eb",
   "metadata": {},
   "source": [
    "### Boltzmann weight"
   ]
  },
  {
   "cell_type": "code",
   "execution_count": 3,
   "id": "70ff9835-3272-43fe-9e0e-929fd5a3f417",
   "metadata": {},
   "outputs": [],
   "source": [
    "def W0_(T):\n",
    "    W0 = np.array([[np.exp(+1/T),np.exp(-1/T)],\n",
    "                   [np.exp(-1/T),np.exp(+1/T)]])\n",
    "    return W0"
   ]
  },
  {
   "cell_type": "markdown",
   "id": "bc798acb-1b2a-4927-87b1-16e8cdb8619d",
   "metadata": {},
   "source": [
    "### $M$, $M^\\dagger$ from SVD"
   ]
  },
  {
   "cell_type": "code",
   "execution_count": 4,
   "id": "236dfab8-ef2d-4534-9791-9734d616ea60",
   "metadata": {},
   "outputs": [
    {
     "name": "stdout",
     "output_type": "stream",
     "text": [
      "[M]=\n",
      " [[-1.24220797 -1.08406697]\n",
      " [-1.24220797  1.08406697]]\n",
      "[M]d=\n",
      " [[-1.24220797 -1.24220797]\n",
      " [-1.08406697  1.08406697]]\n",
      "[M][Md]-[W]=\n",
      " [[-8.8817842e-16 -4.4408921e-16]\n",
      " [ 0.0000000e+00 -4.4408921e-16]]\n"
     ]
    }
   ],
   "source": [
    "# W=USVd\n",
    "# print('[W0]=\\n', W0_(1.0))\n",
    "U, S, Vd = np.linalg.svd(W0_(1.0))\n",
    "# print('[S]=\\n', S)\n",
    "M = U @ np.diag(np.sqrt(S))\n",
    "Md = np.diag(np.sqrt(S)) @ Vd\n",
    "print('[M]=\\n', M)\n",
    "print('[M]d=\\n', Md)\n",
    "print('[M][Md]-[W]=\\n', M @ Md - W0_(1.0))"
   ]
  },
  {
   "cell_type": "markdown",
   "id": "e78516c2-4187-4564-b936-bcc7ef4720d0",
   "metadata": {},
   "source": [
    "### $M$, $M^\\dagger$ from exact formula"
   ]
  },
  {
   "cell_type": "code",
   "execution_count": 5,
   "id": "4bf0728b-c0e2-4274-8f2e-51e7a11fb3de",
   "metadata": {},
   "outputs": [
    {
     "name": "stdout",
     "output_type": "stream",
     "text": [
      "[M]=\n",
      " [[ 1.24220797  1.08406697]\n",
      " [ 1.24220797 -1.08406697]]\n",
      "[M][Md]=\n",
      " [[2.71828183 0.36787944]\n",
      " [0.36787944 2.71828183]]\n",
      "[M][Md]-[W]=\n",
      " [[ 0.00000000e+00 -3.88578059e-16]\n",
      " [-3.88578059e-16  0.00000000e+00]]\n"
     ]
    }
   ],
   "source": [
    "def M0_(T):\n",
    "    M0 = np.array([[+np.sqrt(np.cosh(1/T)), +np.sqrt(np.sinh(1/T))],\n",
    "                   [+np.sqrt(np.cosh(1/T)), -np.sqrt(np.sinh(1/T))]])\n",
    "    return M0\n",
    "\n",
    "a_M = M0_(1)\n",
    "print('[M]=\\n', a_M)\n",
    "print('[M][Md]=\\n', a_M @ a_M.transpose())\n",
    "print('[M][Md]-[W]=\\n', a_M @ a_M.transpose()-W0_(1.0))"
   ]
  },
  {
   "cell_type": "markdown",
   "id": "c4e1c3ac-7e67-4dc6-9582-27a0de5be948",
   "metadata": {},
   "source": [
    "### cytnx version (SVD)\n",
    "* cytnx.from_numpy()\n",
    "* cytnx.linalg.Svd()\n",
    "* cytnx.linalg.Pow()\n",
    "* cytnx.linalg.Diag()\n",
    "* cytnx.UniTensor()"
   ]
  },
  {
   "cell_type": "code",
   "execution_count": 6,
   "id": "53a97c2f-2e2c-4742-9d8d-0ee5cae93cff",
   "metadata": {},
   "outputs": [
    {
     "name": "stdout",
     "output_type": "stream",
     "text": [
      "-----------------------\n",
      "tensor Name : M\n",
      "tensor Rank : 2\n",
      "block_form  : false\n",
      "is_diag     : False\n",
      "on device   : cytnx device: CPU\n",
      "            -------------      \n",
      "           /             \\     \n",
      "     0 ____| 2         2 |____ 1  \n",
      "           \\             /     \n",
      "            -------------      \n",
      "[[-1.24220797 -1.08406697]\n",
      " [-1.24220797  1.08406697]]\n",
      "-----------------------\n",
      "tensor Name : M†\n",
      "tensor Rank : 2\n",
      "block_form  : false\n",
      "is_diag     : False\n",
      "on device   : cytnx device: CPU\n",
      "            -------------      \n",
      "           /             \\     \n",
      "     0 ____| 2         2 |____ 1  \n",
      "           \\             /     \n",
      "            -------------      \n",
      "[[-1.24220797 -1.24220797]\n",
      " [-1.08406697  1.08406697]]\n"
     ]
    }
   ],
   "source": [
    "def M_(T, h):\n",
    "    W = np.array([[np.exp(1/T), np.exp(-1/T)],\n",
    "                  [np.exp(-1/T), np.exp(1/T)]])\n",
    "    W = cytnx.from_numpy(W)\n",
    "    S, U, Vd = W.Svd()\n",
    "    M = U @ cytnx.linalg.Diag(S.Pow(0.5))\n",
    "    Md = cytnx.linalg.Diag(S.Pow(0.5)) @ Vd\n",
    "    M = cytnx.UniTensor(M, rowrank=1)\n",
    "    M.set_name('M')\n",
    "    Md = cytnx.UniTensor(Md, rowrank=1)\n",
    "    Md.set_name('M†')    \n",
    "    return M, Md\n",
    "\n",
    "ut_M, ut_Md = M_(1, 0)\n",
    "ut_print(ut_M)\n",
    "ut_print(ut_Md)"
   ]
  },
  {
   "cell_type": "markdown",
   "id": "1913bc4f-1256-442b-8f46-0d7b9bca73d7",
   "metadata": {},
   "source": [
    "### Check [M][M†]=[W]\n",
    "* If we use cytnx.Contract(), we need to re-label."
   ]
  },
  {
   "cell_type": "code",
   "execution_count": 7,
   "id": "fb28be6a-a4fa-413a-831b-05d70804cef4",
   "metadata": {},
   "outputs": [
    {
     "name": "stdout",
     "output_type": "stream",
     "text": [
      "-----------------------\n",
      "tensor Name : \n",
      "tensor Rank : 0\n",
      "block_form  : false\n",
      "is_diag     : False\n",
      "on device   : cytnx device: CPU\n",
      "            -------------      \n",
      "           \\             /     \n",
      "            -------------      \n",
      "[5.41155508]\n"
     ]
    }
   ],
   "source": [
    "ut_print(cytnx.Contract(ut_M, ut_Md))"
   ]
  },
  {
   "cell_type": "markdown",
   "id": "75a2ae89-a052-4932-82f9-3be62468a063",
   "metadata": {},
   "source": [
    "#### re-label before contract"
   ]
  },
  {
   "cell_type": "code",
   "execution_count": 8,
   "id": "968d47ed-3592-44f9-a933-b7d72fbca40d",
   "metadata": {},
   "outputs": [
    {
     "name": "stdout",
     "output_type": "stream",
     "text": [
      "-----------------------\n",
      "tensor Name : M†\n",
      "tensor Rank : 2\n",
      "block_form  : false\n",
      "is_diag     : False\n",
      "on device   : cytnx device: CPU\n",
      "            -------------      \n",
      "           /             \\     \n",
      "     1 ____| 2         2 |____ 2  \n",
      "           \\             /     \n",
      "            -------------      \n",
      "[[-1.24220797 -1.24220797]\n",
      " [-1.08406697  1.08406697]]\n"
     ]
    }
   ],
   "source": [
    "ut_Md.set_labels((1,2))\n",
    "ut_print(ut_Md)"
   ]
  },
  {
   "cell_type": "code",
   "execution_count": 9,
   "id": "edee8664-4394-4446-856d-9e0ef9556da5",
   "metadata": {},
   "outputs": [
    {
     "name": "stdout",
     "output_type": "stream",
     "text": [
      "[[2.71828183 0.36787944]\n",
      " [0.36787944 2.71828183]]\n",
      "-----------------------\n",
      "tensor Name : \n",
      "tensor Rank : 2\n",
      "block_form  : false\n",
      "is_diag     : False\n",
      "on device   : cytnx device: CPU\n",
      "            -------------      \n",
      "           /             \\     \n",
      "     0 ____| 2         2 |____ 2  \n",
      "           \\             /     \n",
      "            -------------      \n",
      "[[2.71828183 0.36787944]\n",
      " [0.36787944 2.71828183]]\n"
     ]
    }
   ],
   "source": [
    "print(W0_(1.0))\n",
    "ut_print(cytnx.Contract(ut_M, ut_Md))"
   ]
  },
  {
   "cell_type": "markdown",
   "id": "d0889749-04bb-42e7-a236-5dcc08afc75c",
   "metadata": {},
   "source": [
    "## Construct $T_{bare}$"
   ]
  },
  {
   "cell_type": "markdown",
   "id": "ae6d3c9b-e667-4fd1-8802-00f98b87f774",
   "metadata": {},
   "source": [
    "### Construct $\\delta$ tensor"
   ]
  },
  {
   "cell_type": "code",
   "execution_count": 10,
   "id": "84470d59-2dc8-46d1-bc40-d70421e8befd",
   "metadata": {},
   "outputs": [
    {
     "name": "stdout",
     "output_type": "stream",
     "text": [
      "-----------------------\n",
      "tensor Name : ẟ\n",
      "tensor Rank : 4\n",
      "block_form  : false\n",
      "is_diag     : False\n",
      "on device   : cytnx device: CPU\n",
      "            -------------      \n",
      "           /             \\     \n",
      "     0 ____| 2         2 |____ 2  \n",
      "           |             |     \n",
      "     1 ____| 2         2 |____ 3  \n",
      "           \\             /     \n",
      "            -------------      \n",
      "[[[[1. 0.]\n",
      "   [0. 0.]]\n",
      "\n",
      "  [[0. 0.]\n",
      "   [0. 0.]]]\n",
      "\n",
      "\n",
      " [[[0. 0.]\n",
      "   [0. 0.]]\n",
      "\n",
      "  [[0. 0.]\n",
      "   [0. 1.]]]]\n"
     ]
    }
   ],
   "source": [
    "def delta_():\n",
    "    delta = cytnx.zeros([2,2,2,2])\n",
    "    delta[0,0,0,0]= 1.0\n",
    "    delta[1,1,1,1]= 1.0\n",
    "    delta = cytnx.UniTensor(delta, rowrank=2)\n",
    "    delta.set_name('ẟ')\n",
    "    return delta\n",
    "\n",
    "ut_ẟ = delta_()\n",
    "# print(ut_ẟ.get_block().numpy())\n",
    "# ut_ẟ.print_diagram()\n",
    "ut_print(ut_ẟ)"
   ]
  },
  {
   "cell_type": "markdown",
   "id": "5faff1ba-5419-42c9-ba5a-56e35562ca82",
   "metadata": {},
   "source": [
    "### Construct $T_{bare}$ tensor"
   ]
  },
  {
   "cell_type": "code",
   "execution_count": 11,
   "id": "adbad5ca-11af-466a-ae53-c48389f4967f",
   "metadata": {},
   "outputs": [
    {
     "name": "stdout",
     "output_type": "stream",
     "text": [
      "==== Network ====\n",
      "[x] ẟ : 100 101 ; 102 103 \n",
      "[x] M0.d : 0 ; 100 \n",
      "[x] M1.d : 1 ; 101 \n",
      "[x] M2 : 102 ; 2 \n",
      "[x] M3 : 103 ; 3 \n",
      "TOUT : 0 1 ; 2 3 \n",
      "ORDER : \n",
      "=================\n",
      "\n",
      "==== Network ====\n",
      "[o] ẟ : 100 101 ; 102 103 \n",
      "[o] M0.d : 0 ; 100 \n",
      "[o] M1.d : 1 ; 101 \n",
      "[o] M2 : 102 ; 2 \n",
      "[o] M3 : 103 ; 3 \n",
      "TOUT : 0 1 ; 2 3 \n",
      "ORDER : \n",
      "=================\n",
      "\n",
      "-----------------------\n",
      "tensor Name : T_bare\n",
      "tensor Rank : 4\n",
      "block_form  : false\n",
      "is_diag     : False\n",
      "on device   : cytnx device: CPU\n",
      "            -------------      \n",
      "           /             \\     \n",
      "     0 ____| 2         2 |____ 2  \n",
      "           |             |     \n",
      "     1 ____| 2         2 |____ 3  \n",
      "           \\             /     \n",
      "            -------------      \n",
      "[[[[ 4.76219569e+00  2.32739908e-15]\n",
      "   [ 2.32739908e-15  3.62686041e+00]]\n",
      "\n",
      "  [[ 2.05157350e-15  3.62686041e+00]\n",
      "   [ 3.62686041e+00 -3.01055929e-15]]]\n",
      "\n",
      "\n",
      " [[[ 2.16101918e-15  3.62686041e+00]\n",
      "   [ 3.62686041e+00 -3.21683176e-15]]\n",
      "\n",
      "  [[ 3.62686041e+00 -2.77274255e-15]\n",
      "   [-2.77274255e-15  2.76219569e+00]]]]\n"
     ]
    }
   ],
   "source": [
    "ut_M, ut_Md = M_(1, 0)\n",
    "ut_ẟ = delta_()\n",
    "# ut_print(ut_ẟ)\n",
    "T_bare_net = cytnx.Network('Networks/T_bare.net')\n",
    "print(T_bare_net)\n",
    "T_bare_net.PutUniTensors(['ẟ', 'M0.d', 'M1.d', 'M2', 'M3'], [ut_ẟ, ut_Md, ut_Md, ut_M, ut_M])\n",
    "print(T_bare_net)\n",
    "T_bare = T_bare_net.Launch(optimal=True)\n",
    "T_bare.set_name('T_bare')\n",
    "ut_print(T_bare)"
   ]
  },
  {
   "cell_type": "code",
   "execution_count": 12,
   "id": "22a8e047-8c3c-478d-9dc7-9346a94bc4b5",
   "metadata": {},
   "outputs": [
    {
     "name": "stdout",
     "output_type": "stream",
     "text": [
      "==== Network ====\n",
      "[x] ẟ : 100 101 ; 102 103 \n",
      "[x] M0.d : 0 ; 100 \n",
      "[x] M1.d : 1 ; 101 \n",
      "[x] M2 : 102 ; 2 \n",
      "[x] M3 : 103 ; 3 \n",
      "TOUT : 0 1 ; 2 3 \n",
      "ORDER : \n",
      "=================\n",
      "\n",
      "==== Network ====\n",
      "[o] ẟ : 100 101 ; 102 103 \n",
      "[o] M0.d : 0 ; 100 \n",
      "[o] M1.d : 1 ; 101 \n",
      "[o] M2 : 102 ; 2 \n",
      "[o] M3 : 103 ; 3 \n",
      "TOUT : 0 1 ; 2 3 \n",
      "ORDER : \n",
      "=================\n",
      "\n",
      "-----------------------\n",
      "tensor Name : T_bare\n",
      "tensor Rank : 4\n",
      "block_form  : false\n",
      "is_diag     : False\n",
      "on device   : cytnx device: CPU\n",
      "            -------------      \n",
      "           /             \\     \n",
      "     0 ____| 2         2 |____ 2  \n",
      "           |             |     \n",
      "     1 ____| 2         2 |____ 3  \n",
      "           \\             /     \n",
      "            -------------      \n",
      "[[[[ 4.76219569e+00  2.32739908e-15]\n",
      "   [ 2.32739908e-15  3.62686041e+00]]\n",
      "\n",
      "  [[ 2.05157350e-15  3.62686041e+00]\n",
      "   [ 3.62686041e+00 -3.01055929e-15]]]\n",
      "\n",
      "\n",
      " [[[ 2.16101918e-15  3.62686041e+00]\n",
      "   [ 3.62686041e+00 -3.21683176e-15]]\n",
      "\n",
      "  [[ 3.62686041e+00 -2.77274255e-15]\n",
      "   [-2.77274255e-15  2.76219569e+00]]]]\n"
     ]
    }
   ],
   "source": [
    "ut_M, ut_Md = M_(1, 0)\n",
    "ut_ẟ = delta_()\n",
    "#                       0\n",
    "#                 ┌─────┘\n",
    "#                 │ ┏━━━╳━━━┓ \n",
    "#                 └─┨d MT0 d┠─┐\n",
    "#                   ┗━━━━━━━┛ │                                    0\n",
    "#                 ┌────100────┘                              ┌─────┘\n",
    "#                 │ ┏━━━╳━━━┓                                │ ┏━━━╳━━━━┓\n",
    "#    ┏━━━╳━━━┓    └─┨d      ┃      ┏━━━╳━━━┓                 └─┨d       ┃\n",
    "# 1──┨d MT1 d┠─101──┨d  ẟ  d┠──102─┨d  M2 d┠──2    =     1 ────┨d TOUT d┠──── 2\n",
    "#    ┗━━━━━━━┛      ┃      d┠─┐    ┗━━━━━━━┛                   ┃       d┠─┐\n",
    "#                   ┗━━━━━━━┛ │                                ┗━━━━━━━━┛ │\n",
    "#                 ┌────103────┘                                    ┌──────┘              \n",
    "#                 │ ┏━━━╳━━━┓                                      3\n",
    "#                 └─┨d  M3 d┠─┐\n",
    "#                   ┗━━━━━━━┛ │\n",
    "#                       ┌─────┘\n",
    "#                       3\n",
    "\n",
    "T_bare_net = cytnx.Network()\n",
    "T_bare_net.FromString([\n",
    "'ẟ: 100,101;102,103',\n",
    "'M0.d: 0;100',\n",
    "'M1.d: 1;101',\n",
    "'M2  : 102;2',\n",
    "'M3  : 103;3',\n",
    "'TOUT: 0,1;2,3',\n",
    "'ORDER:'\n",
    "])\n",
    "\n",
    "print(T_bare_net)\n",
    "T_bare_net.PutUniTensors(['ẟ', 'M0.d', 'M1.d', 'M2', 'M3'], [ut_ẟ, ut_Md, ut_Md, ut_M, ut_M])\n",
    "print(T_bare_net)\n",
    "T_bare = T_bare_net.Launch(optimal=True)\n",
    "T_bare.set_name('T_bare')\n",
    "ut_print(T_bare)"
   ]
  },
  {
   "cell_type": "markdown",
   "id": "b50c8124-07da-4cd9-a9ab-7d6640ffb1dd",
   "metadata": {},
   "source": [
    "### Construct $T$ using numpy"
   ]
  },
  {
   "cell_type": "code",
   "execution_count": 13,
   "id": "14d58498-3aa4-4bbf-9f0d-a5bd35afcd8d",
   "metadata": {},
   "outputs": [
    {
     "data": {
      "text/plain": [
       "array([[[[4.76219569, 0.        ],\n",
       "         [0.        , 3.62686041]],\n",
       "\n",
       "        [[0.        , 3.62686041],\n",
       "         [3.62686041, 0.        ]]],\n",
       "\n",
       "\n",
       "       [[[0.        , 3.62686041],\n",
       "         [3.62686041, 0.        ]],\n",
       "\n",
       "        [[3.62686041, 0.        ],\n",
       "         [0.        , 2.76219569]]]])"
      ]
     },
     "execution_count": 13,
     "metadata": {},
     "output_type": "execute_result"
    }
   ],
   "source": [
    "a_M0 = M0_(1)\n",
    "a_T = np.zeros((2,2,2,2))\n",
    "for i in range(2):\n",
    "    for j in range(2):\n",
    "        for k in range(2):\n",
    "            for l in range(2):\n",
    "                a_T[i,j,k,l]=a_M0[0,i]*a_M0[0,j]*a_M0[0,k]*a_M0[0,l]+a_M0[1,i]*a_M0[1,j]*a_M0[1,k]*a_M0[1,l]\n",
    "a_T "
   ]
  },
  {
   "cell_type": "markdown",
   "id": "0a120728-246f-48dc-9f7d-4fca92544eab",
   "metadata": {},
   "source": [
    "### Merge two $T_{bare}$ in y-direction"
   ]
  },
  {
   "cell_type": "code",
   "execution_count": 14,
   "id": "ad602138-d473-4ba2-a870-4c8cb4f40759",
   "metadata": {},
   "outputs": [
    {
     "name": "stdout",
     "output_type": "stream",
     "text": [
      "==== Network ====\n",
      "[x] Tup : 0 1 ; 3 -1 \n",
      "[x] Tdn : -1 2 ; 4 5 \n",
      "TOUT : 0 1 2 ; 3 4 5 \n",
      "ORDER : \n",
      "=================\n",
      "\n",
      "==== Network ====\n",
      "[o] Tup : 0 1 ; 3 -1 \n",
      "[o] Tdn : -1 2 ; 4 5 \n",
      "TOUT : 0 1 2 ; 3 4 5 \n",
      "ORDER : \n",
      "=================\n",
      "\n",
      "-----------------------\n",
      "tensor Name : Tupdn\n",
      "tensor Rank : 6\n",
      "block_form  : false\n",
      "is_diag     : False\n",
      "on device   : cytnx device: CPU\n",
      "            -------------      \n",
      "           /             \\     \n",
      "     0 ____| 2         2 |____ 3  \n",
      "           |             |     \n",
      "     1 ____| 2         2 |____ 4  \n",
      "           |             |     \n",
      "     2 ____| 2         2 |____ 5  \n",
      "           \\             /     \n",
      "            -------------      \n",
      "-----------------------\n",
      "tensor Name : Tupdn\n",
      "tensor Rank : 4\n",
      "block_form  : false\n",
      "is_diag     : False\n",
      "on device   : cytnx device: CPU\n",
      "            -------------      \n",
      "           /             \\     \n",
      "     0 ____| 2         4 |____ 3  \n",
      "           |             |     \n",
      "     1 ____| 4         2 |____ 5  \n",
      "           \\             /     \n",
      "            -------------      \n"
     ]
    }
   ],
   "source": [
    "TupTdn_net = cytnx.Network('Networks/TupTdn.net')\n",
    "print(TupTdn_net)\n",
    "TupTdn_net.PutUniTensors(['Tup', 'Tdn'], [T_bare, T_bare])\n",
    "print(TupTdn_net)\n",
    "TupTdn = TupTdn_net.Launch(optimal=True)\n",
    "TupTdn.set_name('Tupdn')\n",
    "TupTdn.print_diagram()\n",
    "# ut_print(TupTdn)\n",
    "TupTdn.combineBonds([1,2])\n",
    "TupTdn.combineBonds([3,4])\n",
    "TupTdn.print_diagram()"
   ]
  },
  {
   "cell_type": "code",
   "execution_count": 15,
   "id": "b88723d7-7047-41a6-86cb-4fb1289570e1",
   "metadata": {},
   "outputs": [
    {
     "name": "stdout",
     "output_type": "stream",
     "text": [
      "==== Network ====\n",
      "[x] Tup : 0 1 ; 3 -1 \n",
      "[x] Tdn : -1 2 ; 4 5 \n",
      "TOUT : 0 1 2 ; 3 4 5 \n",
      "ORDER : \n",
      "=================\n",
      "\n",
      "==== Network ====\n",
      "[o] Tup : 0 1 ; 3 -1 \n",
      "[o] Tdn : -1 2 ; 4 5 \n",
      "TOUT : 0 1 2 ; 3 4 5 \n",
      "ORDER : \n",
      "=================\n",
      "\n",
      "-----------------------\n",
      "tensor Name : TupTdn\n",
      "tensor Rank : 6\n",
      "block_form  : false\n",
      "is_diag     : False\n",
      "on device   : cytnx device: CPU\n",
      "            -------------      \n",
      "           /             \\     \n",
      "     0 ____| 2         2 |____ 3  \n",
      "           |             |     \n",
      "     1 ____| 2         2 |____ 4  \n",
      "           |             |     \n",
      "     2 ____| 2         2 |____ 5  \n",
      "           \\             /     \n",
      "            -------------      \n",
      "-----------------------\n",
      "tensor Name : TupTdn\n",
      "tensor Rank : 4\n",
      "block_form  : false\n",
      "is_diag     : False\n",
      "on device   : cytnx device: CPU\n",
      "            -------------      \n",
      "           /             \\     \n",
      "     0 ____| 2         4 |____ 3  \n",
      "           |             |     \n",
      "     1 ____| 4         2 |____ 5  \n",
      "           \\             /     \n",
      "            -------------      \n"
     ]
    }
   ],
   "source": [
    "#           0\n",
    "#     ┌─────┘\n",
    "#     │ ┏━━━╳━━┓                          0\n",
    "#     └─┨      ┃                    ┌─────┘\n",
    "#  1 ───┨  Tup ┠───3                │ ┏━━━╳━━┓\n",
    "#       ┃      ┠─┐                  └─┨      ┃\n",
    "#       ┗━━━━━━┛ │               1────┨      ┃\n",
    "#     ┌─── -1 ───┘       -->     2────┨ TOUT ┠────3\n",
    "#     │ ┏━━━╳━━┓                      ┃      ┠────4\n",
    "#     └─┨      ┃                      ┃      ┠─┐\n",
    "#  2────┨  Tdn ┠────4                 ┗━━━━━━┛ │\n",
    "#       ┃      ┠─┐                        ┌────┘\n",
    "#       ┗━━━━━━┛ │                        5\n",
    "#           ┌────┘\n",
    "#           5\n",
    "\n",
    "TupTdn_net = cytnx.Network()\n",
    "TupTdn_net.FromString([\n",
    "'Tup: 0,1;3,-1',\n",
    "'Tdn: -1,2;4,5',\n",
    "'TOUT: 0,1,2; 3,4,5',\n",
    "'ORDER:'\n",
    "])\n",
    "print(TupTdn_net)\n",
    "TupTdn_net.PutUniTensors(['Tup', 'Tdn'], [T_bare, T_bare])\n",
    "print(TupTdn_net)\n",
    "TupTdn = TupTdn_net.Launch(optimal=True)\n",
    "TupTdn.set_name('TupTdn')\n",
    "TupTdn.print_diagram()\n",
    "# ut_print(TupTdn)\n",
    "TupTdn.combineBonds([1,2])\n",
    "TupTdn.combineBonds([3,4])\n",
    "TupTdn.print_diagram()"
   ]
  },
  {
   "cell_type": "markdown",
   "id": "45ee1d05-4afc-424f-8c94-07450866084f",
   "metadata": {},
   "source": [
    "### Construct $(1\\times 2)$ transfer matrix $\\mathcal{T}_{1x2}$"
   ]
  },
  {
   "cell_type": "code",
   "execution_count": 16,
   "id": "2baa4cf4-eac0-4d0a-a472-66dc24d60639",
   "metadata": {},
   "outputs": [
    {
     "name": "stdout",
     "output_type": "stream",
     "text": [
      "-----------------------\n",
      "tensor Name : TupTdn\n",
      "tensor Rank : 4\n",
      "block_form  : false\n",
      "is_diag     : False\n",
      "on device   : cytnx device: CPU\n",
      "            -------------      \n",
      "           /             \\     \n",
      "     0 ____| 2         4 |____ 3  \n",
      "           |             |     \n",
      "     1 ____| 4         2 |____ 5  \n",
      "           \\             /     \n",
      "            -------------      \n",
      "-----------------------\n",
      "tensor Name : TupTdn\n",
      "tensor Rank : 2\n",
      "block_form  : false\n",
      "is_diag     : False\n",
      "on device   : cytnx device: CPU\n",
      "            -------------      \n",
      "           /             \\     \n",
      "     1 ____| 4         4 |____ 3  \n",
      "           \\             /     \n",
      "            -------------      \n",
      "[[ 3.58326242e+01  1.56953966e-14  1.56953966e-14  2.63082328e+01]\n",
      " [ 1.59925108e-14  2.72899172e+01  2.63082328e+01 -2.14195957e-14]\n",
      " [ 1.59925108e-14  2.63082328e+01  2.72899172e+01 -2.14195957e-14]\n",
      " [ 2.63082328e+01 -2.11933153e-14 -2.11933153e-14  2.07838415e+01]]\n"
     ]
    }
   ],
   "source": [
    "TM = TupTdn.Trace(0, 5, by_label=True)\n",
    "TupTdn.print_diagram()\n",
    "# TM.print_diagram()\n",
    "ut_print(TM)"
   ]
  },
  {
   "cell_type": "code",
   "execution_count": 17,
   "id": "d9ebdf0e-442e-43d2-8490-993955d69786",
   "metadata": {},
   "outputs": [
    {
     "name": "stdout",
     "output_type": "stream",
     "text": [
      "-----------------------\n",
      "tensor Name : TupTdn\n",
      "tensor Rank : 4\n",
      "block_form  : false\n",
      "is_diag     : False\n",
      "on device   : cytnx device: CPU\n",
      "            -------------      \n",
      "           /             \\     \n",
      "     0 ____| 2         4 |____ 3  \n",
      "           |             |     \n",
      "     1 ____| 4         2 |____ 5  \n",
      "           \\             /     \n",
      "            -------------      \n",
      "-----------------------\n",
      "tensor Name : TupTdn\n",
      "tensor Rank : 2\n",
      "block_form  : false\n",
      "is_diag     : False\n",
      "on device   : cytnx device: CPU\n",
      "            -------------      \n",
      "           /             \\     \n",
      "     1 ____| 4         4 |____ 3  \n",
      "           \\             /     \n",
      "            -------------      \n",
      "[[ 3.58326242e+01  1.56953966e-14  1.56953966e-14  2.63082328e+01]\n",
      " [ 1.59925108e-14  2.72899172e+01  2.63082328e+01 -2.14195957e-14]\n",
      " [ 1.59925108e-14  2.63082328e+01  2.72899172e+01 -2.14195957e-14]\n",
      " [ 2.63082328e+01 -2.11933153e-14 -2.11933153e-14  2.07838415e+01]]\n"
     ]
    }
   ],
   "source": [
    "TM = TupTdn.Trace(0, 3)\n",
    "TupTdn.print_diagram()\n",
    "# TM.print_diagram()\n",
    "ut_print(TM)"
   ]
  },
  {
   "cell_type": "code",
   "execution_count": 18,
   "id": "3c8f5481-78d5-4d53-9294-aeedcee449b0",
   "metadata": {},
   "outputs": [
    {
     "name": "stdout",
     "output_type": "stream",
     "text": [
      "[ 0.94512664  0.98168436 53.59815003 55.67133903]\n",
      "[55.67133903 53.59815003  0.98168436  0.94512664]\n"
     ]
    }
   ],
   "source": [
    "λ, _ = TM.get_block().Eigh()\n",
    "λ = λ.numpy()\n",
    "print(λ)\n",
    "λ = λ[::-1]\n",
    "print(λ)"
   ]
  },
  {
   "cell_type": "code",
   "execution_count": 19,
   "id": "7506a854-3046-4c1f-a552-38e3b2f1d1b8",
   "metadata": {},
   "outputs": [
    {
     "name": "stdout",
     "output_type": "stream",
     "text": [
      "[ 0.94512664  0.98168436 53.59815003 55.67133903]\n",
      "[55.67133903 53.59815003  0.98168436  0.94512664]\n"
     ]
    }
   ],
   "source": [
    "aTM = TM.get_block()\n",
    "λ = np.linalg.eigvalsh(aTM.numpy())\n",
    "print(λ)\n",
    "λ = λ[::-1]\n",
    "print(λ)"
   ]
  },
  {
   "cell_type": "code",
   "execution_count": 20,
   "id": "945d47ca-911f-4a82-b58f-eee6bb70fd40",
   "metadata": {},
   "outputs": [
    {
     "name": "stdout",
     "output_type": "stream",
     "text": [
      "[-4.01946545 -3.98151455  0.01848545  0.05643635]\n"
     ]
    }
   ],
   "source": [
    "E = -np.log(λ)\n",
    "print(E)"
   ]
  },
  {
   "cell_type": "markdown",
   "id": "df2a401d-852c-4e35-8012-9286ba803589",
   "metadata": {},
   "source": [
    "## Refactor"
   ]
  },
  {
   "cell_type": "code",
   "execution_count": 21,
   "id": "60d4c2c7-f2cc-4ae1-81af-b3552c06d79d",
   "metadata": {},
   "outputs": [],
   "source": [
    "T = {}\n",
    "TM = {}"
   ]
  },
  {
   "cell_type": "code",
   "execution_count": 22,
   "id": "23e66a21-ffb3-4b48-81bc-7eeb8d520d46",
   "metadata": {},
   "outputs": [],
   "source": [
    "#           0\n",
    "#     ┌─────┘\n",
    "#     │ ┏━━━╳━━┓                          0\n",
    "#     └─┨      ┃                    ┌─────┘\n",
    "#  1 ───┨  Tup ┠───3                │ ┏━━━╳━━┓\n",
    "#       ┃      ┠─┐                  └─┨      ┃\n",
    "#       ┗━━━━━━┛ │               1────┨      ┃\n",
    "#     ┌─── -1 ───┘       -->     2────┨ TOUT ┠────3\n",
    "#     │ ┏━━━╳━━┓                      ┃      ┠────4\n",
    "#     └─┨      ┃                      ┃      ┠─┐\n",
    "#  2────┨  Tdn ┠────4                 ┗━━━━━━┛ │\n",
    "#       ┃      ┠─┐                        ┌────┘\n",
    "#       ┗━━━━━━┛ │                        5\n",
    "#           ┌────┘\n",
    "#           5\n",
    "def merge_y(Tup, Tdn):\n",
    "    TupTdn_net = cytnx.Network()\n",
    "    TupTdn_net.FromString([\n",
    "    'Tup: 0,1;3,-1',\n",
    "    'Tdn: -1,2;4,5',\n",
    "    'TOUT: 0,1,2; 3,4,5',\n",
    "    'ORDER:'\n",
    "    ])\n",
    "    TupTdn_net.PutUniTensors(['Tup', 'Tdn'], [Tup, Tdn])\n",
    "    return TupTdn_net.Launch(optimal=True)"
   ]
  },
  {
   "cell_type": "markdown",
   "id": "7551334d-9632-48d1-ae1a-d24dd409ef57",
   "metadata": {},
   "source": [
    "### Construct $(1\\times 2)$ transfer matrix $\\mathcal{T}_{1x2}$"
   ]
  },
  {
   "cell_type": "code",
   "execution_count": 23,
   "id": "5c98be19-de29-41ed-8e11-a89de602b193",
   "metadata": {},
   "outputs": [
    {
     "name": "stdout",
     "output_type": "stream",
     "text": [
      "-----------------------\n",
      "tensor Name : T_{1,2}\n",
      "tensor Rank : 6\n",
      "block_form  : false\n",
      "is_diag     : False\n",
      "on device   : cytnx device: CPU\n",
      "            -------------      \n",
      "           /             \\     \n",
      "     0 ____| 2         2 |____ 3  \n",
      "           |             |     \n",
      "     1 ____| 2         2 |____ 4  \n",
      "           |             |     \n",
      "     2 ____| 2         2 |____ 5  \n",
      "           \\             /     \n",
      "            -------------      \n",
      "-----------------------\n",
      "tensor Name : T_{1,2}\n",
      "tensor Rank : 4\n",
      "block_form  : false\n",
      "is_diag     : False\n",
      "on device   : cytnx device: CPU\n",
      "            -------------      \n",
      "           /             \\     \n",
      "     0 ____| 2         4 |____ 3  \n",
      "           |             |     \n",
      "     1 ____| 4         2 |____ 5  \n",
      "           \\             /     \n",
      "            -------------      \n",
      "[ 0.94512664  0.98168436 53.59815003 55.67133903]\n",
      "[55.67133903 53.59815003  0.98168436  0.94512664]\n",
      "[-2.00973273 -1.99075728  0.00924272  0.02821817]\n"
     ]
    }
   ],
   "source": [
    "T[(1,2)] = merge_y(T_bare, T_bare)\n",
    "T[(1,2)].set_name('T_{1,2}')\n",
    "T[(1,2)].print_diagram()\n",
    "T[(1,2)].combineBonds([1,2])\n",
    "T[(1,2)].combineBonds([3,4])\n",
    "T[(1,2)].print_diagram()\n",
    "\n",
    "TM[(1,2)] = T[(1,2)].Trace(0, 3)\n",
    "λ, _ = TM[(1,2)].get_block().Eigh()\n",
    "λ = λ.numpy()\n",
    "print(λ)\n",
    "λ = λ[::-1]\n",
    "print(λ)\n",
    "E = -np.log(λ)\n",
    "print(E/2)"
   ]
  },
  {
   "cell_type": "markdown",
   "id": "c6bb4c60-165a-439f-b02c-b2b4b0fa513c",
   "metadata": {},
   "source": [
    "### Construct $(1\\times 3)$ transfer matrix $\\mathcal{T}_{1x3}$"
   ]
  },
  {
   "cell_type": "code",
   "execution_count": 24,
   "id": "bb9645cc-2cec-4258-91b7-a8bedec19683",
   "metadata": {},
   "outputs": [
    {
     "name": "stdout",
     "output_type": "stream",
     "text": [
      "-----------------------\n",
      "tensor Name : T_{1,3}\n",
      "tensor Rank : 6\n",
      "block_form  : false\n",
      "is_diag     : False\n",
      "on device   : cytnx device: CPU\n",
      "            -------------      \n",
      "           /             \\     \n",
      "     0 ____| 2         4 |____ 3  \n",
      "           |             |     \n",
      "     1 ____| 4         2 |____ 4  \n",
      "           |             |     \n",
      "     2 ____| 2         2 |____ 5  \n",
      "           \\             /     \n",
      "            -------------      \n",
      "-----------------------\n",
      "tensor Name : T_{1,3}\n",
      "tensor Rank : 4\n",
      "block_form  : false\n",
      "is_diag     : False\n",
      "on device   : cytnx device: CPU\n",
      "            -------------      \n",
      "           /             \\     \n",
      "     0 ____| 2         8 |____ 3  \n",
      "           |             |     \n",
      "     1 ____| 8         2 |____ 5  \n",
      "           \\             /     \n",
      "            -------------      \n",
      "[  5.33302166   6.27203645   6.27203645   8.23540518   8.23540518\n",
      "   9.14392425 402.73718286 404.96291155]\n",
      "[404.96291155 402.73718286   9.14392425   8.23540518   8.23540518\n",
      "   6.27203645   6.27203645   5.33302166]\n",
      "[-2.00126516 -1.99942807 -0.73769655 -0.70281419 -0.70281419 -0.6120337\n",
      " -0.6120337  -0.55797266]\n"
     ]
    }
   ],
   "source": [
    "T[(1,3)] = merge_y(T[(1,2)], T_bare)\n",
    "T[(1,3)].set_name('T_{1,3}')\n",
    "T[(1,3)].print_diagram()\n",
    "T[(1,3)].combineBonds([1,2])\n",
    "T[(1,3)].combineBonds([3,4])\n",
    "T[(1,3)].print_diagram()\n",
    "\n",
    "TM[(1,3)] = T[(1,3)].Trace(0, 3)\n",
    "λ, _ = TM[(1,3)].get_block().Eigh()\n",
    "λ = λ.numpy()\n",
    "print(λ)\n",
    "λ = λ[::-1]\n",
    "print(λ)\n",
    "E = -np.log(λ)\n",
    "print(E/3)"
   ]
  }
 ],
 "metadata": {
  "kernelspec": {
   "display_name": "Python 3 (ipykernel)",
   "language": "python",
   "name": "python3"
  },
  "language_info": {
   "codemirror_mode": {
    "name": "ipython",
    "version": 3
   },
   "file_extension": ".py",
   "mimetype": "text/x-python",
   "name": "python",
   "nbconvert_exporter": "python",
   "pygments_lexer": "ipython3",
   "version": "3.9.5"
  }
 },
 "nbformat": 4,
 "nbformat_minor": 5
}
