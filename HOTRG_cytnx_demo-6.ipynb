{
 "cells": [
  {
   "cell_type": "markdown",
   "id": "2e1d01dc-311e-44f0-8f71-cff6920aeeef",
   "metadata": {},
   "source": [
    "# HOTRG (cytnx version)\n",
    "## Demo-5\n",
    "* Author: Pochung Chen\n",
    "* Last update: 2022/5/29\n",
    "* Α α, Β β, Γ γ, Δ δ, Ε ε, Ζ ζ, Η η, Θ θ, Ι ι, Κ κ, Λ λ, Μ μ, Ν ν, Ξ ξ, Ο ο, Π π, Ρ ρ, Σ σ/ς, Τ τ, Υ υ, Φ φ, Χ χ, Ψ ψ, and Ω ω"
   ]
  },
  {
   "cell_type": "markdown",
   "id": "8ce21d98-eae3-427a-a036-991d32cb25d2",
   "metadata": {},
   "source": [
    "Two site Hamiltonian: \n",
    "$$ \\large\n",
    "  E(s_1, s_2) = -Js_1 s_2\n",
    "$$\n",
    "\n",
    "Boltzmann weight on the bond:\n",
    "$$ \\large\n",
    "  W = e^{-\\beta E} = \n",
    "  \\left[ \\begin{array}{cc}\n",
    "  e^{+\\beta J} & e^{-\\beta J} \\\\\n",
    "  e^{-\\beta J} & e^{+\\beta J}\n",
    "  \\end{array} \\right]\n",
    "$$\n",
    "\n",
    "Decompose $W$ as $M M^\\dagger$, where\n",
    "$$ \\large\n",
    "  W = e^{-\\beta E} = M M^\\dagger,\n",
    "  M = \n",
    "  \\left[ \\begin{array}{cc}\n",
    "  +\\sqrt{\\cosh{\\beta J}} & +\\sqrt{\\sinh{\\beta J}} \\\\\n",
    "  +\\sqrt{\\cosh{\\beta J}} & -\\sqrt{\\sinh{\\beta J}}\n",
    "  \\end{array} \\right]\n",
    "$$\n",
    "\n",
    "Numerically, we first perform SVD on $W$ to obtain $M$ and $M^\\dagger$:\n",
    "$$ \\large\n",
    "  W = U S V^\\dagger \\rightarrow\n",
    "  M = U \\sqrt{S}, M^\\dagger = \\sqrt{S} U^\\dagger.\n",
    "$$\n",
    "Note that because $W$ is Hermitian, on has $V=U$.\n",
    "\n",
    "$$ \\large\n",
    "  T_{ijkl} = \\sum_\\alpha\n",
    "  M_{\\alpha, i} M_{\\alpha, j} M_{\\alpha, k} M_{\\alpha, l}\n",
    "$$\n",
    "\n",
    "$$ \\large\n",
    "  T_c = \\frac{2}{\\log(1+\\sqrt{2})} \\approx 2.269.\n",
    "$$"
   ]
  },
  {
   "cell_type": "markdown",
   "id": "73836ad3-e338-4dcf-a0a6-daceb2a50505",
   "metadata": {},
   "source": [
    "## Cytnx cheat sheet\n",
    "\n",
    "* numpy <-> cytnx.tensor <-> cytnx.UniTensor"
   ]
  },
  {
   "cell_type": "code",
   "execution_count": 1,
   "id": "3e95057a-fe3c-4b3d-8bdd-f77f401205a6",
   "metadata": {},
   "outputs": [],
   "source": [
    "import numpy as np\n",
    "import matplotlib.pyplot as plt\n",
    "import cytnx"
   ]
  },
  {
   "cell_type": "code",
   "execution_count": 2,
   "id": "81129b71-42fe-4eab-82fa-d5f66d3ce857",
   "metadata": {},
   "outputs": [
    {
     "name": "stdout",
     "output_type": "stream",
     "text": [
      "2.269185314213022\n"
     ]
    }
   ],
   "source": [
    "Tc = 2./np.log(1.+np.sqrt(2))\n",
    "print(Tc)\n",
    "def ut_print(ut):\n",
    "    ut.print_diagram()\n",
    "    print(ut.get_block().numpy())"
   ]
  },
  {
   "cell_type": "markdown",
   "id": "77a4ce12-40bc-446b-a47f-13a6a2c2ad19",
   "metadata": {},
   "source": [
    "## Constrauct $M$"
   ]
  },
  {
   "cell_type": "code",
   "execution_count": 3,
   "id": "4bf0728b-c0e2-4274-8f2e-51e7a11fb3de",
   "metadata": {},
   "outputs": [],
   "source": [
    "def M0_(T):\n",
    "    M0 = np.array([[+np.sqrt(np.cosh(1/T)), +np.sqrt(np.sinh(1/T))],\n",
    "                   [+np.sqrt(np.cosh(1/T)), -np.sqrt(np.sinh(1/T))]])\n",
    "    return M0\n",
    "\n",
    "def M_(T,h):\n",
    "    W = np.array([[np.exp(1/T), np.exp(-1/T)],\n",
    "                  [np.exp(-1/T), np.exp(1/T)]])\n",
    "    W = cytnx.from_numpy(W)\n",
    "    # S, U, Vd = cytnx.linalg.Svd(W)\n",
    "    S, U, Vd = W.Svd()\n",
    "    M = U @ cytnx.linalg.Diag(S.Pow(0.5))\n",
    "    Md = cytnx.linalg.Diag(S.Pow(0.5)) @ Vd\n",
    "    M = cytnx.UniTensor(M, rowrank=1)\n",
    "    M.set_name('M')\n",
    "    Md = cytnx.UniTensor(Md, rowrank=1)\n",
    "    Md.set_name('M†')    \n",
    "    return M, Md"
   ]
  },
  {
   "cell_type": "markdown",
   "id": "d0889749-04bb-42e7-a236-5dcc08afc75c",
   "metadata": {},
   "source": [
    "## Construct $T_{bare}$"
   ]
  },
  {
   "cell_type": "code",
   "execution_count": 4,
   "id": "84470d59-2dc8-46d1-bc40-d70421e8befd",
   "metadata": {},
   "outputs": [],
   "source": [
    "def delta_():\n",
    "    delta = cytnx.zeros([2,2,2,2])\n",
    "    delta[0,0,0,0]= 1.0\n",
    "    delta[1,1,1,1]= 1.0\n",
    "    delta = cytnx.UniTensor(delta, rowrank=2)\n",
    "    delta.set_name('ẟ')\n",
    "    return delta\n",
    "\n",
    "def T_bare_(T, h):\n",
    "    ut_M, ut_Md = M_(T, h)\n",
    "    ut_delta = delta_()\n",
    "    Ising_net = cytnx.Network('Networks/Ising_square.net')\n",
    "    Ising_net.PutUniTensors(['delta', 'M0.d', 'M1.d', 'M2', 'M3'],\n",
    "                            [ut_delta, ut_Md, ut_Md, ut_M, ut_M])\n",
    "    T_bare = Ising_net.Launch(optimal=True)\n",
    "    T_bare.set_name('T_bare')\n",
    "    return T_bare\n",
    "\n",
    "def ymerge(Tu, Td):\n",
    "    ymerge_net = cytnx.Network('Networks/merge_two_y.net')\n",
    "    ymerge_net.PutUniTensors(['Tu', 'Td'], [Tu, Td])\n",
    "    Tud = ymerge_net.Launch(optimal=True)\n",
    "    Tud.combineBonds([1,2])\n",
    "    Tud.combineBonds([3,4])\n",
    "    return Tud\n",
    "\n",
    "def ymerge_nc(Tu, Td):\n",
    "    ymerge_net = cytnx.Network('Networks/merge_two_y.net')\n",
    "    ymerge_net.PutUniTensors(['Tu', 'Td'], [Tu, Td])\n",
    "    Tud = ymerge_net.Launch(optimal=True)\n",
    "    # Tud.combineBonds([1,2])\n",
    "    # Tud.combineBonds([3,4])\n",
    "    return Tud\n",
    "    \n",
    "# def ymerge_TM(Tu, Td):\n",
    "#     ymerge_net_TM = cytnx.Network('Networks/merge_two_y_trace.net')\n",
    "#     ymerge_net_TM.PutUniTensors(['Tu', 'Td'], [Tu, Td])\n",
    "#     TMud = ymerge_net_TM.Launch(optimal=True)\n",
    "#     TMud.combineBonds([1,2])\n",
    "#     TMud.combineBonds([3,4])\n",
    "#     TMud = TMud.get_block()\n",
    "#     return TMud\n",
    "\n",
    "def xmerge(Tl, Tr):\n",
    "    xmerge_net = cytnx.Network('Networks/merge_two_x.net')\n",
    "    xmerge_net.PutUniTensors(['Tl', 'Tr'], [Tl, Tr])\n",
    "    Tlr = xmerge_net.Launch(optimal=True)\n",
    "    Tlr.combineBonds([0,1])\n",
    "    Tlr.combineBonds([4,5])\n",
    "    return Tlr\n",
    "\n",
    "# def xmerge_TM(Tl, Tr):\n",
    "#     xmerge_net_TM = cytnx.Network('Networks/merge_two_x_trace.net')\n",
    "#     xmerge_net_TM.PutUniTensors(['Tl', 'Tr'], [Tl, Tr])\n",
    "#     TMlr = xmerge_net_TM.Launch(optimal=True)\n",
    "#     # TMlr.print_diagram()\n",
    "#     # TMlr.combineBonds([0,1])\n",
    "#     # TMlr.combineBonds([4,5])\n",
    "#     return TMlr\n",
    "\n",
    "def T_to_TM(T):\n",
    "    trace_net = cytnx.Network('Networks/trace_y.net')\n",
    "    dim = T.shape()[0]\n",
    "    trace_net.PutUniTensors(['T', 'Id'], [T, cytnx.UniTensor(cytnx.eye(dim), rowrank=1)])\n",
    "    TM = trace_net.Launch(optimal=True)\n",
    "    TM = TM.get_block()\n",
    "    return TM"
   ]
  },
  {
   "cell_type": "markdown",
   "id": "f57ebf18-05be-4f2e-b59f-4981ec25b58a",
   "metadata": {},
   "source": [
    "## Transfer Matrix\n",
    "\n",
    "* TM$[(L_x, L_y)]$ = Transfer Matrix of $L_x$ columns, each column has $L_y$ sites. \n",
    "* $\\lambda_i(L_x, L_y)$ = Eigenvalues of TM$[(L_x, L_y)]$.\n",
    "* $E_i(Lx, Ly) = -\\ln \\lambda_i(L_x, L_y)$.\n",
    "* $\\lambda_i(L_y, L_y)=\\lambda_i(1, L_y)^{L_x}$\n",
    "* $E_i(L_y, L_y) = L_x E_i(1, L_y)$\n",
    "\n",
    "Correlation length $\\xi$ for an infinite strip (in x-direction) of width $L_y$\n",
    "$$ \\large\n",
    "  \\xi(L_y)=\\frac{1}{E_1(1,L_y)-E_0(1,L_y)}.\n",
    "$$\n",
    "\n",
    "$$ \\large\n",
    "  \\frac{\\xi(L_y)}{L_y}\n",
    "  =\\frac{1}{[E_1(1,L_y)-E_0(1,L_y)]L_y}\n",
    "  =\\frac{L_x}{[E_1(L_x,L_y)-E_0(L_x,L_y)]L_y}.\n",
    "$$\n",
    "\n",
    "For $L_x = L_y$\n",
    "$$ \\large\n",
    "  \\frac{\\xi(L)}{L}\n",
    "  =\\frac{1}{E_1(L_x,L_y)-E_0(L_x,L_y)}.\n",
    "$$\n"
   ]
  },
  {
   "cell_type": "markdown",
   "id": "bd1688b5-69a5-4f11-934c-cd7890b1e762",
   "metadata": {},
   "source": [
    "## Merge\n",
    "\n",
    "Linear growth in y-direction:\n",
    "* T[(1, Ly)], T[(1, 1)] -->ymerge--> T[(1, Ly+1)] \n",
    "\n",
    "Power law growth in both directionx:\n",
    "* T[(1, 1)], T[(1, 1)] -->ymerge--> T[(1, 2)]\n",
    "* T[(1, 2)], T[(1, 2)] -->xmerge--> T[(2, 2)]\n",
    "* T[(2, 2)], T[(2, 2)] -->ymerge--> T[(2, 4)]\n",
    "* T[(2, 4)], T[(2, 4)] -->xmerge--> T[(4, 4)]"
   ]
  },
  {
   "cell_type": "markdown",
   "id": "b6ccfb04-c2aa-4415-9f9a-aaff5150dc57",
   "metadata": {
    "tags": []
   },
   "source": [
    "## Single temperature, various sizes (power law growth)"
   ]
  },
  {
   "cell_type": "code",
   "execution_count": 5,
   "id": "23b436ff-09ee-4fc4-a343-1c3936b8875c",
   "metadata": {},
   "outputs": [],
   "source": [
    "T = {}\n",
    "TM = {}\n",
    "λ = {}\n",
    "E = {}\n",
    "temp = 1.0\n",
    "h = 0.0"
   ]
  },
  {
   "cell_type": "code",
   "execution_count": 6,
   "id": "0ad4db9a-16b0-403d-b34d-485e5e3f9556",
   "metadata": {},
   "outputs": [
    {
     "name": "stdout",
     "output_type": "stream",
     "text": [
      "-----------------------\n",
      "tensor Name : T[(1,1)]\n",
      "tensor Rank : 4\n",
      "block_form  : false\n",
      "is_diag     : False\n",
      "on device   : cytnx device: CPU\n",
      "            -------------      \n",
      "           /             \\     \n",
      "     0 ____| 2         2 |____ 2  \n",
      "           |             |     \n",
      "     1 ____| 2         2 |____ 3  \n",
      "           \\             /     \n",
      "            -------------      \n"
     ]
    }
   ],
   "source": [
    "##### T[(1,1)]\n",
    "T[(1,1)] = T_bare_(temp, h)\n",
    "\n",
    "T[(1,1)].set_name('T[(1,1)]')\n",
    "T[(1,1)].print_diagram()"
   ]
  },
  {
   "cell_type": "code",
   "execution_count": 7,
   "id": "998fa2cb-dc6d-4bc4-8d2b-0926408f18d9",
   "metadata": {},
   "outputs": [
    {
     "name": "stdout",
     "output_type": "stream",
     "text": [
      "E[(1,2)]/1/2= [-2.00973273 -1.99075728  0.00924272  0.02821817]\n",
      "-----------------------\n",
      "tensor Name : T[(1,2)]\n",
      "tensor Rank : 4\n",
      "block_form  : false\n",
      "is_diag     : False\n",
      "on device   : cytnx device: CPU\n",
      "            -------------      \n",
      "           /             \\     \n",
      "     0 ____| 2         4 |____ 3  \n",
      "           |             |     \n",
      "     1 ____| 4         2 |____ 5  \n",
      "           \\             /     \n",
      "            -------------      \n"
     ]
    }
   ],
   "source": [
    "##### T[(1,2)]\n",
    "T[(1,2)] = ymerge(T[(1,1)], T[(1,1)])\n",
    "TM[(1,2)] = T_to_TM(T[(1,2)])\n",
    "λ[(1,2)], _ = cytnx.linalg.Eigh(TM[(1,2)])\n",
    "λ[(1,2)] = λ[(1,2)].numpy()[::-1]\n",
    "E[(1,2)] = -np.log(λ[(1,2)])\n",
    "print('E[(1,2)]/1/2=', E[(1,2)][:4]/1/2)\n",
    "\n",
    "T[(1,2)].set_name('T[(1,2)]')\n",
    "T[(1,2)].print_diagram()"
   ]
  },
  {
   "cell_type": "code",
   "execution_count": 8,
   "id": "713aa30e-092c-4c51-bcbb-443c02cd29ac",
   "metadata": {},
   "outputs": [
    {
     "name": "stdout",
     "output_type": "stream",
     "text": [
      "E[(2,2)]/2/2= [-2.00973273 -1.99075728  0.00924272  0.02821817]\n",
      "-----------------------\n",
      "tensor Name : T[(2,2)]\n",
      "tensor Rank : 4\n",
      "block_form  : false\n",
      "is_diag     : False\n",
      "on device   : cytnx device: CPU\n",
      "            -------------      \n",
      "           /             \\     \n",
      "     0 ____| 4         4 |____ 3  \n",
      "           |             |     \n",
      "     2 ____| 4         4 |____ 4  \n",
      "           \\             /     \n",
      "            -------------      \n"
     ]
    }
   ],
   "source": [
    "##### T[(2,2)]\n",
    "T[(2,2)] = xmerge(T[(1,2)], T[(1,2)])\n",
    "TM[(2,2)] = T_to_TM(T[(2,2)])\n",
    "λ[(2,2)], _ = cytnx.linalg.Eigh(TM[(2,2)])\n",
    "λ[(2,2)] = λ[(2,2)].numpy()[::-1]\n",
    "E[(2,2)] = -np.log(λ[(2,2)])\n",
    "print('E[(2,2)]/2/2=', E[(2,2)][:4]/2/2)\n",
    "\n",
    "T[(2,2)].set_name('T[(2,2)]')\n",
    "T[(2,2)].print_diagram()"
   ]
  },
  {
   "cell_type": "code",
   "execution_count": 9,
   "id": "7bd30133-bfcc-44e3-904e-9d0a30ca4710",
   "metadata": {},
   "outputs": [
    {
     "name": "stdout",
     "output_type": "stream",
     "text": [
      "E[(2,4)]/2/4= [-2.0004515  -2.000245   -1.08572752 -1.05884264]\n",
      "-----------------------\n",
      "tensor Name : T[(2,4)]\n",
      "tensor Rank : 4\n",
      "block_form  : false\n",
      "is_diag     : False\n",
      "on device   : cytnx device: CPU\n",
      "            -------------      \n",
      "           /             \\     \n",
      "     0 ____| 4        16 |____ 3  \n",
      "           |             |     \n",
      "     1 ____| 16        4 |____ 5  \n",
      "           \\             /     \n",
      "            -------------      \n"
     ]
    }
   ],
   "source": [
    "##### T[(2,4)]\n",
    "T[(2,4)] = ymerge(T[(2,2)], T[(2,2)])\n",
    "TM[(2,4)] = T_to_TM(T[(2,4)])\n",
    "λ[(2,4)], _ = cytnx.linalg.Eigh(TM[(2,4)])\n",
    "λ[(2,4)] = λ[(2,4)].numpy()[::-1]\n",
    "E[(2,4)] = -np.log(λ[(2,4)])\n",
    "print('E[(2,4)]/2/4=', E[(2,4)][:4]/2/4)\n",
    "\n",
    "T[(2,4)].set_name('T[(2,4)]')\n",
    "T[(2,4)].print_diagram()"
   ]
  },
  {
   "cell_type": "code",
   "execution_count": 10,
   "id": "0be588a0-3ae8-46c6-9455-8a69eb959ebc",
   "metadata": {},
   "outputs": [
    {
     "name": "stdout",
     "output_type": "stream",
     "text": [
      "E[(4,4)]/4/4= [-2.0004515  -2.000245   -1.08572752 -1.05884264]\n",
      "-----------------------\n",
      "tensor Name : T[(4,4)]\n",
      "tensor Rank : 4\n",
      "block_form  : false\n",
      "is_diag     : False\n",
      "on device   : cytnx device: CPU\n",
      "            -------------      \n",
      "           /             \\     \n",
      "     0 ____| 16       16 |____ 3  \n",
      "           |             |     \n",
      "     2 ____| 16       16 |____ 4  \n",
      "           \\             /     \n",
      "            -------------      \n"
     ]
    }
   ],
   "source": [
    "##### T[(4,4)]\n",
    "T[(4,4)] = xmerge(T[(2,4)], T[(2,4)])\n",
    "TM[(4,4)] = T_to_TM(T[(4,4)])\n",
    "λ[(4,4)], _ = cytnx.linalg.Eigh(TM[(4,4)])\n",
    "λ[(4,4)] = λ[(4,4)].numpy()[::-1]\n",
    "E[(4,4)] = -np.log(λ[(4,4)])\n",
    "print('E[(4,4)]/4/4=', E[(4,4)][:4]/4/4)\n",
    "\n",
    "T[(4,4)].set_name('T[(4,4)]')\n",
    "T[(4,4)].print_diagram()"
   ]
  },
  {
   "cell_type": "code",
   "execution_count": null,
   "id": "81ba7f97-554d-445c-86cf-5de76aafa75b",
   "metadata": {},
   "outputs": [],
   "source": []
  },
  {
   "cell_type": "markdown",
   "id": "8c290f0a-98d8-4223-842b-275e31631c21",
   "metadata": {},
   "source": [
    "## Approximation\n",
    "* 4x4=16 --> 10"
   ]
  },
  {
   "cell_type": "code",
   "execution_count": 13,
   "id": "5fac7bcc-4c7b-4c31-97eb-6d94d01bc964",
   "metadata": {},
   "outputs": [
    {
     "name": "stdout",
     "output_type": "stream",
     "text": [
      "-----------------------\n",
      "tensor Name : T[(2,2)]\n",
      "tensor Rank : 4\n",
      "block_form  : false\n",
      "is_diag     : False\n",
      "on device   : cytnx device: CPU\n",
      "            -------------      \n",
      "           /             \\     \n",
      "     0 ____| 4         4 |____ 3  \n",
      "           |             |     \n",
      "     2 ____| 4         4 |____ 4  \n",
      "           \\             /     \n",
      "            -------------      \n",
      "-----------------------\n",
      "tensor Name : Θ\n",
      "tensor Rank : 4\n",
      "block_form  : false\n",
      "is_diag     : False\n",
      "on device   : cytnx device: CPU\n",
      "            -------------      \n",
      "           /             \\     \n",
      "     0 ____| 4         4 |____ 2  \n",
      "           |             |     \n",
      "     1 ____| 4         4 |____ 3  \n",
      "           \\             /     \n",
      "            -------------      \n"
     ]
    }
   ],
   "source": [
    "update_pure_net = cytnx.Network('Networks/update_pure.net')\n",
    "update_pure_net.PutUniTensors(['Tu', 'Td', 'Tu.d', 'Td.d'], [T[(2,2)], T[(2,2)], T[(2,2)].Dagger(), T[(2,2)].Dagger()])\n",
    "T[(2,2)].print_diagram()\n",
    "\n",
    "Θ = update_pure_net.Launch(optimal=True)\n",
    "Θ.set_name('Θ')\n",
    "Θ.print_diagram()"
   ]
  },
  {
   "cell_type": "code",
   "execution_count": 33,
   "id": "48f0c57d-9e32-4a24-9fbb-8a27f1f0678a",
   "metadata": {},
   "outputs": [
    {
     "name": "stdout",
     "output_type": "stream",
     "text": [
      "[10, 16, 16]\n",
      "10\n"
     ]
    }
   ],
   "source": [
    "dcut = 10\n",
    "print([dcut, np.prod(Θ.shape()[:2]), np.prod(Θ.shape()[2:])])\n",
    "dc = np.min([dcut, np.prod(Θ.shape()[:2]), np.prod(Θ.shape()[2:])])\n",
    "print(dc)"
   ]
  },
  {
   "cell_type": "code",
   "execution_count": 34,
   "id": "f25745b4-78cc-434b-8182-92214accf660",
   "metadata": {},
   "outputs": [
    {
     "name": "stdout",
     "output_type": "stream",
     "text": [
      "-----------------------\n",
      "tensor Name : \n",
      "tensor Rank : 3\n",
      "block_form  : false\n",
      "is_diag     : False\n",
      "on device   : cytnx device: CPU\n",
      "            -------------      \n",
      "           /             \\     \n",
      "     0 ____| 4        10 |____ -1 \n",
      "           |             |     \n",
      "     1 ____| 4           |        \n",
      "           \\             /     \n",
      "            -------------      \n",
      "-------- start of print ---------\n",
      "Tensor name: \n",
      "Tensor name: \n",
      "is_diag    : True\n",
      "contiguous : True\n",
      "\n",
      "Total elem: 10\n",
      "type  : Double (Float64)\n",
      "cytnx device: CPU\n",
      "Shape : (10)\n",
      "[7.95001e+13 7.94234e+13 8.15900e+10 8.15114e+10 4.92332e+10 4.91857e+10 1.60773e+10 1.60618e+10 5.05275e+07 5.04788e+07 ]\n",
      "\n",
      "\n",
      "\n",
      "\n",
      "-----------------------\n",
      "tensor Name : \n",
      "tensor Rank : 4\n",
      "block_form  : false\n",
      "is_diag     : False\n",
      "on device   : cytnx device: CPU\n",
      "            -------------      \n",
      "           /             \\     \n",
      "     0 ____| 4        10 |____ 2  \n",
      "           |             |     \n",
      "     1 ____| 10        4 |____ 3  \n",
      "           \\             /     \n",
      "            -------------      \n"
     ]
    }
   ],
   "source": [
    "S, U, _ = cytnx.linalg.Svd_truncate(Θ, keepdim=dc)\n",
    "U.print_diagram()\n",
    "print(S)\n",
    "update_net = cytnx.Network('Networks/update_two_y.net')\n",
    "update_net.PutUniTensors(['Tu','Td','UT','U'],[T[(2,2)],T[(2,2)],U.Dagger(),U])\n",
    "T[(2,4,dc)] = update_net.Launch(optimal=True)\n",
    "T[(2,4,dc)].print_diagram()"
   ]
  },
  {
   "cell_type": "code",
   "execution_count": 35,
   "id": "060c1b4f-4e90-4237-a0bc-9f9ecf71a40a",
   "metadata": {},
   "outputs": [
    {
     "name": "stdout",
     "output_type": "stream",
     "text": [
      "E[(4,4,dc)]/4/4= [-2.0004515  -2.000245   -1.08572752 -1.05884264]\n",
      "-----------------------\n",
      "tensor Name : T[(4,4,10)]\n",
      "tensor Rank : 4\n",
      "block_form  : false\n",
      "is_diag     : False\n",
      "on device   : cytnx device: CPU\n",
      "            -------------      \n",
      "           /             \\     \n",
      "     0 ____| 16       10 |____ 3  \n",
      "           |             |     \n",
      "     2 ____| 10       16 |____ 4  \n",
      "           \\             /     \n",
      "            -------------      \n"
     ]
    }
   ],
   "source": [
    "##### T[(4,4)]\n",
    "T[(4,4,dc)] = xmerge(T[(2,4,dc)], T[(2,4,dc)])\n",
    "TM[(4,4,dc)] = T_to_TM(T[(4,4)])\n",
    "λ[(4,4)], _ = cytnx.linalg.Eigh(TM[(4,4)])\n",
    "λ[(4,4)] = λ[(4,4)].numpy()[::-1]\n",
    "E[(4,4)] = -np.log(λ[(4,4)])\n",
    "print('E[(4,4,dc)]/4/4=', E[(4,4)][:4]/4/4)\n",
    "\n",
    "T[(4,4,dc)].set_name('T[(4,4,{})]'.format(dc))\n",
    "T[(4,4,dc)].print_diagram()"
   ]
  },
  {
   "cell_type": "code",
   "execution_count": 36,
   "id": "77685bbb-d2e7-4df7-ba12-25971d0e7a26",
   "metadata": {},
   "outputs": [
    {
     "name": "stdout",
     "output_type": "stream",
     "text": [
      "-----------------------\n",
      "tensor Name : \n",
      "tensor Rank : 6\n",
      "block_form  : false\n",
      "is_diag     : False\n",
      "on device   : cytnx device: CPU\n",
      "            -------------      \n",
      "           /             \\     \n",
      "     0 ____| 4         4 |____ 3  \n",
      "           |             |     \n",
      "     1 ____| 4         4 |____ 4  \n",
      "           |             |     \n",
      "     2 ____| 4         4 |____ 5  \n",
      "           \\             /     \n",
      "            -------------      \n"
     ]
    }
   ],
   "source": [
    "TT = ymerge_nc(T[(2,2)], T[(2,2)])\n",
    "TT.print_diagram()\n",
    "# TM[(2,4)] = T_to_TM(T[(2,4)])\n",
    "# λ[(2,4)], _ = cytnx.linalg.Eigh(TM[(2,4)])\n",
    "# λ[(2,4)] = λ[(2,4)].numpy()[::-1]\n",
    "# E[(2,4)] = -np.log(λ[(2,4)])\n",
    "# print('E[(2,4)]/2/4=', E[(2,4)][:4]/2/4)"
   ]
  },
  {
   "cell_type": "code",
   "execution_count": 37,
   "id": "9b6fe8ef-bfde-4d12-88fe-099e114c6281",
   "metadata": {},
   "outputs": [
    {
     "name": "stdout",
     "output_type": "stream",
     "text": [
      "-----------------------\n",
      "tensor Name : \n",
      "tensor Rank : 6\n",
      "block_form  : false\n",
      "is_diag     : False\n",
      "on device   : cytnx device: CPU\n",
      "            -------------      \n",
      "           /             \\     \n",
      "     1 ____| 4         4 |____ 0  \n",
      "           |             |     \n",
      "     2 ____| 4         4 |____ 3  \n",
      "           |             |     \n",
      "           |           4 |____ 4  \n",
      "           |             |     \n",
      "           |           4 |____ 5  \n",
      "           \\             /     \n",
      "            -------------      \n"
     ]
    }
   ],
   "source": [
    "TT.permute_([1,2,0,3,4,5],rowrank=2)\n",
    "TT.print_diagram()"
   ]
  },
  {
   "cell_type": "code",
   "execution_count": 38,
   "id": "882f56e0-81a5-4bf0-8526-4d2e226cbb92",
   "metadata": {},
   "outputs": [
    {
     "name": "stdout",
     "output_type": "stream",
     "text": [
      "-----------------------\n",
      "tensor Name : \n",
      "tensor Rank : 3\n",
      "block_form  : false\n",
      "is_diag     : False\n",
      "on device   : cytnx device: CPU\n",
      "            -------------      \n",
      "           /             \\     \n",
      "     1 ____| 4        10 |____ -1 \n",
      "           |             |     \n",
      "     2 ____| 4           |        \n",
      "           \\             /     \n",
      "            -------------      \n",
      "-------- start of print ---------\n",
      "Tensor name: \n",
      "Tensor name: \n",
      "is_diag    : True\n",
      "contiguous : True\n",
      "\n",
      "Total elem: 10\n",
      "type  : Double (Float64)\n",
      "cytnx device: CPU\n",
      "Shape : (10)\n",
      "[7.95001e+13 7.94234e+13 8.15900e+10 8.15114e+10 4.92332e+10 4.91857e+10 1.60773e+10 1.60618e+10 5.05275e+07 5.04788e+07 ]\n",
      "\n",
      "\n",
      "\n",
      "\n"
     ]
    }
   ],
   "source": [
    "S, U, _ = cytnx.linalg.Svd_truncate(TT, keepdim=dc)\n",
    "U.print_diagram()\n",
    "print(S*S)"
   ]
  },
  {
   "cell_type": "code",
   "execution_count": 39,
   "id": "461c020e-ec8d-4f18-901e-760902155d93",
   "metadata": {},
   "outputs": [
    {
     "name": "stdout",
     "output_type": "stream",
     "text": [
      "-----------------------\n",
      "tensor Name : \n",
      "tensor Rank : 4\n",
      "block_form  : false\n",
      "is_diag     : False\n",
      "on device   : cytnx device: CPU\n",
      "            -------------      \n",
      "           /             \\     \n",
      "     0 ____| 4        10 |____ 2  \n",
      "           |             |     \n",
      "     1 ____| 10        4 |____ 3  \n",
      "           \\             /     \n",
      "            -------------      \n"
     ]
    }
   ],
   "source": [
    "update_net = cytnx.Network('Networks/update_two_y.net')\n",
    "update_net.PutUniTensors(['Tu','Td','UT','U'],[T[(2,2)],T[(2,2)],U.Dagger(),U])\n",
    "T[(2,4,dc)] = update_net.Launch(optimal=True)\n",
    "T[(2,4,dc)].print_diagram()"
   ]
  },
  {
   "cell_type": "code",
   "execution_count": 40,
   "id": "a7a95929-d237-4448-bddc-50feaebef1ec",
   "metadata": {},
   "outputs": [
    {
     "name": "stdout",
     "output_type": "stream",
     "text": [
      "E[(4,4,dc)]/4/4= [-2.0004515  -2.000245   -1.08572752 -1.05884264]\n",
      "-----------------------\n",
      "tensor Name : T[(4,4,10)]\n",
      "tensor Rank : 4\n",
      "block_form  : false\n",
      "is_diag     : False\n",
      "on device   : cytnx device: CPU\n",
      "            -------------      \n",
      "           /             \\     \n",
      "     0 ____| 16       10 |____ 3  \n",
      "           |             |     \n",
      "     2 ____| 10       16 |____ 4  \n",
      "           \\             /     \n",
      "            -------------      \n"
     ]
    }
   ],
   "source": [
    "##### T[(4,4)]\n",
    "T[(4,4,dc)] = xmerge(T[(2,4,dc)], T[(2,4,dc)])\n",
    "TM[(4,4,dc)] = T_to_TM(T[(4,4)])\n",
    "λ[(4,4)], _ = cytnx.linalg.Eigh(TM[(4,4)])\n",
    "λ[(4,4)] = λ[(4,4)].numpy()[::-1]\n",
    "E[(4,4)] = -np.log(λ[(4,4)])\n",
    "print('E[(4,4,dc)]/4/4=', E[(4,4)][:4]/4/4)\n",
    "\n",
    "T[(4,4,dc)].set_name('T[(4,4,{})]'.format(dc))\n",
    "T[(4,4,dc)].print_diagram()"
   ]
  },
  {
   "cell_type": "code",
   "execution_count": null,
   "id": "271f1abe-b0fa-4e15-9624-a02330e2802d",
   "metadata": {},
   "outputs": [],
   "source": []
  },
  {
   "cell_type": "code",
   "execution_count": null,
   "id": "24ad9dd0-721f-4a19-b5a8-dc95cdf2e12f",
   "metadata": {},
   "outputs": [],
   "source": []
  },
  {
   "cell_type": "markdown",
   "id": "9c19f92e-e4ea-47c1-ad4c-648c64fc6dda",
   "metadata": {},
   "source": [
    "## Various temperatures, various sizes (power law growth)"
   ]
  },
  {
   "cell_type": "code",
   "execution_count": 6,
   "id": "785209ca-f29e-463f-88b7-b1be3ac51a97",
   "metadata": {},
   "outputs": [],
   "source": [
    "λ = {}\n",
    "E = {}\n",
    "λ0 = {}\n",
    "λ1 = {}\n",
    "E0 = {}\n",
    "E1 = {}"
   ]
  },
  {
   "cell_type": "code",
   "execution_count": 7,
   "id": "b34b299b-40f6-4de6-b36f-6521ad39414e",
   "metadata": {},
   "outputs": [],
   "source": [
    "temp_range = np.linspace(2.2, 2.4, 41)\n",
    "\n",
    "for L in [1,2,4]:\n",
    "    λ0[(L, L)] = np.zeros_like(temp_range)\n",
    "    λ1[(L, L)] = np.zeros_like(temp_range)\n",
    "    E0[(L, L)] = np.zeros_like(temp_range)\n",
    "    E1[(L, L)] = np.zeros_like(temp_range)\n",
    "\n",
    "for i, temp in enumerate(temp_range):\n",
    "    T = {}\n",
    "    TM = {}\n",
    "    T[(1,1)] = T_bare_(temp, h)\n",
    "    \n",
    "    for L in [1,2]:\n",
    "        # print((2*L, 2*L))\n",
    "        T[(L, 2*L)] = ymerge(T[(L, L)], T[(L, L)])\n",
    "        T[(2*L, 2*L)] = xmerge(T[(L, 2*L)], T[(L, 2*L)])\n",
    "        TM[(2*L, 2*L)] =T_to_TM(T[(2*L, 2*L)])\n",
    "        λ[(2*L, 2*L)], _ = cytnx.linalg.Eigh(TM[(2*L, 2*L)])\n",
    "        λ[(2*L, 2*L)] = λ[(2*L, 2*L)].numpy()[::-1]\n",
    "        E[(2*L, 2*L)] = -np.log(λ[(2*L, 2*L)])\n",
    "        λ0[(2*L, 2*L)][i] = λ[(2*L, 2*L)][0]\n",
    "        λ1[(2*L, 2*L)][i] = λ[(2*L, 2*L)][1]\n",
    "        E0[(2*L, 2*L)][i] = E[(2*L, 2*L)][0]\n",
    "        E1[(2*L, 2*L)][i] = E[(2*L, 2*L)][1]"
   ]
  },
  {
   "cell_type": "code",
   "execution_count": 8,
   "id": "2dafe95e-7d5f-4f75-8adf-b526ac7ee824",
   "metadata": {},
   "outputs": [
    {
     "data": {
      "image/png": "[encoded data removed]",
      "text/plain": [
       "<Figure size 720x576 with 1 Axes>"
      ]
     },
     "metadata": {
      "needs_background": "light"
     },
     "output_type": "display_data"
    }
   ],
   "source": [
    "fig, ax = plt.subplots(figsize=(10,8))\n",
    "\n",
    "for L in [2,4]:\n",
    "    ax.plot(temp_range, 1/((E1[(L,L)]-E0[(L,L)])), 'o', label='Lx={}, Ly={}'.format(L, L))\n",
    "\n",
    "ax.plot([Tc, Tc], [np.min(1/((E1[(L,L)]-E0[(L,L)]))), np.max(1/((E1[(L,L)]-E0[(L,L)])))],'k--')\n",
    "# ax.set_xlim(2.25, 2.30)\n",
    "# ax.set_ylim(1.15, 1.35)\n",
    "ax.legend(fontsize=16)\n",
    "ax.grid()"
   ]
  },
  {
   "cell_type": "code",
   "execution_count": 9,
   "id": "bcbc596c-05ae-46a9-9cea-72beb1c48752",
   "metadata": {},
   "outputs": [],
   "source": [
    "temp_range = np.linspace(2.2, 2.4, 41)\n",
    "temp_range = [Tc]\n",
    "\n",
    "for L in [1,2,4]:\n",
    "    λ0[(L, L)] = np.zeros_like(temp_range)\n",
    "    λ1[(L, L)] = np.zeros_like(temp_range)\n",
    "    E0[(L, L)] = np.zeros_like(temp_range)\n",
    "    E1[(L, L)] = np.zeros_like(temp_range)\n",
    "\n",
    "for i, temp in enumerate(temp_range):\n",
    "    T = {}\n",
    "    TM = {}\n",
    "    T[(1,1)] = T_bare_(temp, h)\n",
    "    \n",
    "    for L in [1,2]:\n",
    "        # print((2*L, 2*L))\n",
    "        T[(L, 2*L)] = ymerge(T[(L, L)], T[(L, L)])\n",
    "        T[(2*L, 2*L)] = xmerge(T[(L, 2*L)], T[(L, 2*L)])\n",
    "        TM[(2*L, 2*L)] =T_to_TM(T[(2*L, 2*L)])\n",
    "        λ[(2*L, 2*L)], _ = cytnx.linalg.Eigh(TM[(2*L, 2*L)])\n",
    "        λ[(2*L, 2*L)] = λ[(2*L, 2*L)].numpy()[::-1]\n",
    "        E[(2*L, 2*L)] = -np.log(λ[(2*L, 2*L)])\n",
    "        λ0[(2*L, 2*L)][i] = λ[(2*L, 2*L)][0]\n",
    "        λ1[(2*L, 2*L)][i] = λ[(2*L, 2*L)][1]\n",
    "        E0[(2*L, 2*L)][i] = E[(2*L, 2*L)][0]\n",
    "        E1[(2*L, 2*L)][i] = E[(2*L, 2*L)][1]"
   ]
  },
  {
   "cell_type": "code",
   "execution_count": null,
   "id": "312cd8f6-33e7-4ecb-86b3-4788edabb625",
   "metadata": {},
   "outputs": [],
   "source": []
  }
 ],
 "metadata": {
  "kernelspec": {
   "display_name": "Python 3 (ipykernel)",
   "language": "python",
   "name": "python3"
  },
  "language_info": {
   "codemirror_mode": {
    "name": "ipython",
    "version": 3
   },
   "file_extension": ".py",
   "mimetype": "text/x-python",
   "name": "python",
   "nbconvert_exporter": "python",
   "pygments_lexer": "ipython3",
   "version": "3.9.5"
  }
 },
 "nbformat": 4,
 "nbformat_minor": 5
}
