{
 "cells": [
  {
   "cell_type": "markdown",
   "metadata": {
    "tags": []
   },
   "source": [
    "# Numpy :: SVD\n",
    "## SVD = Singular Value Decomposition\n",
    "\n",
    "https://numpy.org/doc/stable/reference/generated/numpy.linalg.svd.html\n",
    "\n",
    "* Author: Pochung Chen\n",
    "* Email: pcchen@phys.nthu.edu.tw\n",
    "* Last updated on 4/11/2022"
   ]
  },
  {
   "cell_type": "code",
   "execution_count": 1,
   "metadata": {},
   "outputs": [
    {
     "name": "stdout",
     "output_type": "stream",
     "text": [
      "1.22.3\n"
     ]
    }
   ],
   "source": [
    "import numpy as np\n",
    "print(np.__version__)"
   ]
  },
  {
   "cell_type": "markdown",
   "metadata": {
    "tags": []
   },
   "source": [
    "## SVD of a $(2,2)$ matrix\n",
    "\n",
    "$$ \\Large\n",
    "  M = U \\Sigma V^\\dagger.\n",
    "$$"
   ]
  },
  {
   "cell_type": "markdown",
   "metadata": {},
   "source": [
    "### Perform SVD"
   ]
  },
  {
   "cell_type": "code",
   "execution_count": 2,
   "metadata": {},
   "outputs": [
    {
     "name": "stdout",
     "output_type": "stream",
     "text": [
      "[M]=\n",
      " [[1 2]\n",
      " [3 4]]\n",
      "[U]=\n",
      " [[-0.40455358 -0.9145143 ]\n",
      " [-0.9145143   0.40455358]]\n",
      "S=\n",
      " [5.4649857  0.36596619]\n",
      "[Vd]=\n",
      " [[-0.57604844 -0.81741556]\n",
      " [ 0.81741556 -0.57604844]]\n"
     ]
    }
   ],
   "source": [
    "# SVD of a 2X2 matrix\n",
    "M = np.array([[1, 2],\n",
    "              [3, 4]])\n",
    "print('[M]=\\n', M)\n",
    "\n",
    "U,S,Vd = np.linalg.svd(M)\n",
    "print('[U]=\\n', U)\n",
    "print('S=\\n', S)\n",
    "print('[Vd]=\\n', Vd)"
   ]
  },
  {
   "cell_type": "markdown",
   "metadata": {},
   "source": [
    "### Check"
   ]
  },
  {
   "cell_type": "code",
   "execution_count": 3,
   "metadata": {},
   "outputs": [
    {
     "name": "stdout",
     "output_type": "stream",
     "text": [
      "[U] S [Vd]=\n",
      " [-2.49789853  4.87447463]\n"
     ]
    }
   ],
   "source": [
    "# this gives the wrong answer because S is a vector\n",
    "print('[U] S [Vd]=\\n', U @ S @ Vd)"
   ]
  },
  {
   "cell_type": "markdown",
   "metadata": {},
   "source": [
    "### You can convert a vector to a diagonal matrix by `numpy.diag(vector)`"
   ]
  },
  {
   "cell_type": "code",
   "execution_count": 4,
   "metadata": {},
   "outputs": [
    {
     "name": "stdout",
     "output_type": "stream",
     "text": [
      "[S]=\n",
      " [[5.4649857  0.        ]\n",
      " [0.         0.36596619]]\n",
      "[U] [S] [Vd]=\n",
      " [[1. 2.]\n",
      " [3. 4.]]\n"
     ]
    }
   ],
   "source": [
    "# convert S to a diagonal matrix and check again\n",
    "print('[S]=\\n', np.diag(S))\n",
    "print('[U] [S] [Vd]=\\n', U @ np.diag(S) @ Vd)"
   ]
  },
  {
   "cell_type": "markdown",
   "metadata": {},
   "source": [
    "### Orthogonal conditions\n",
    "* $U^\\dagger U=I$\n",
    "* $V^\\dagger V=I$"
   ]
  },
  {
   "cell_type": "code",
   "execution_count": 5,
   "metadata": {},
   "outputs": [
    {
     "name": "stdout",
     "output_type": "stream",
     "text": [
      "[Ud] [U]=\n",
      " [[1.00000000e+00 9.98502693e-17]\n",
      " [9.98502693e-17 1.00000000e+00]]\n",
      "[U] [Ud]=\n",
      " [[1.00000000e+00 3.00701513e-16]\n",
      " [3.00701513e-16 1.00000000e+00]]\n",
      "[Vd] [V]=\n",
      " [[1.000000e+00 1.145223e-18]\n",
      " [1.145223e-18 1.000000e+00]]\n",
      "[V] [Vd]=\n",
      " [[ 1.000000e+00 -1.145223e-18]\n",
      " [-1.145223e-18  1.000000e+00]]\n"
     ]
    }
   ],
   "source": [
    "Ud = np.transpose(U)\n",
    "print('[Ud] [U]=\\n', Ud @ U)\n",
    "print('[U] [Ud]=\\n', U @ Ud)\n",
    "\n",
    "V = np.transpose(Vd)\n",
    "print('[Vd] [V]=\\n', Vd @ V)\n",
    "print('[V] [Vd]=\\n', V @ Vd)"
   ]
  },
  {
   "cell_type": "markdown",
   "metadata": {},
   "source": [
    "## SVD of a $(4,2)$ matrix"
   ]
  },
  {
   "cell_type": "code",
   "execution_count": 6,
   "metadata": {},
   "outputs": [
    {
     "name": "stdout",
     "output_type": "stream",
     "text": [
      "[M]=\n",
      " [[0 1]\n",
      " [2 3]\n",
      " [4 5]\n",
      " [6 7]]\n",
      "[U]=\n",
      " [[-0.0656451  -0.83408076 -0.38578674 -0.38880405]\n",
      " [-0.30394881 -0.45564802  0.22458489  0.80595386]\n",
      " [-0.54225252 -0.07721528  0.70819044 -0.44549557]\n",
      " [-0.78055624  0.30121746 -0.54698859  0.02834576]]\n",
      "S=\n",
      " [11.80788803  0.75748278]\n",
      "[Vd]=\n",
      " [[-0.63180182 -0.77512996]\n",
      " [ 0.77512996 -0.63180182]]\n"
     ]
    }
   ],
   "source": [
    "# SVD of a 4X2 matrix\n",
    "M = np.array(range(8))\n",
    "# print('M=\\n', M)\n",
    "M = np.reshape(M, (4, 2))\n",
    "print('[M]=\\n',M)\n",
    "\n",
    "U,S,Vd = np.linalg.svd(M)\n",
    "print('[U]=\\n', U)\n",
    "print('S=\\n', S)\n",
    "print('[Vd]=\\n', Vd)"
   ]
  },
  {
   "cell_type": "markdown",
   "metadata": {},
   "source": [
    "### Check"
   ]
  },
  {
   "cell_type": "code",
   "execution_count": 7,
   "metadata": {},
   "outputs": [
    {
     "ename": "ValueError",
     "evalue": "matmul: Input operand 1 has a mismatch in its core dimension 0, with gufunc signature (n?,k),(k,m?)->(n?,m?) (size 2 is different from 4)",
     "output_type": "error",
     "traceback": [
      "\u001b[0;31m---------------------------------------------------------------------------\u001b[0m",
      "\u001b[0;31mValueError\u001b[0m                                Traceback (most recent call last)",
      "Input \u001b[0;32mIn [7]\u001b[0m, in \u001b[0;36m<cell line: 2>\u001b[0;34m()\u001b[0m\n\u001b[1;32m      1\u001b[0m \u001b[38;5;66;03m# this fails because full matrices is set to be True\u001b[39;00m\n\u001b[0;32m----> 2\u001b[0m \u001b[38;5;28mprint\u001b[39m(\u001b[38;5;124m'\u001b[39m\u001b[38;5;124m[U] [S] [Vd]=\u001b[39m\u001b[38;5;130;01m\\n\u001b[39;00m\u001b[38;5;124m'\u001b[39m, \u001b[43mU\u001b[49m\u001b[43m \u001b[49m\u001b[38;5;241;43m@\u001b[39;49m\u001b[43m \u001b[49m\u001b[43mnp\u001b[49m\u001b[38;5;241;43m.\u001b[39;49m\u001b[43mdiag\u001b[49m\u001b[43m(\u001b[49m\u001b[43mS\u001b[49m\u001b[43m)\u001b[49m \u001b[38;5;241m@\u001b[39m Vd)\n",
      "\u001b[0;31mValueError\u001b[0m: matmul: Input operand 1 has a mismatch in its core dimension 0, with gufunc signature (n?,k),(k,m?)->(n?,m?) (size 2 is different from 4)"
     ]
    }
   ],
   "source": [
    "# this fails because full matrices is set to be True\n",
    "print('[U] [S] [Vd]=\\n', U @ np.diag(S) @ Vd)"
   ]
  },
  {
   "cell_type": "markdown",
   "metadata": {},
   "source": [
    "### Set `full_matrices=False`"
   ]
  },
  {
   "cell_type": "code",
   "execution_count": 8,
   "metadata": {},
   "outputs": [
    {
     "name": "stdout",
     "output_type": "stream",
     "text": [
      "[M]=\n",
      " [[0 1]\n",
      " [2 3]\n",
      " [4 5]\n",
      " [6 7]]\n",
      "[U]=\n",
      " [[-0.0656451  -0.83408076]\n",
      " [-0.30394881 -0.45564802]\n",
      " [-0.54225252 -0.07721528]\n",
      " [-0.78055624  0.30121746]]\n",
      "[S]=\n",
      " [11.80788803  0.75748278]\n",
      "[Vd]=\n",
      " [[-0.63180182 -0.77512996]\n",
      " [ 0.77512996 -0.63180182]]\n",
      "[U] [S] [Vd]=\n",
      " [[-2.23890725e-18  1.00000000e+00]\n",
      " [ 2.00000000e+00  3.00000000e+00]\n",
      " [ 4.00000000e+00  5.00000000e+00]\n",
      " [ 6.00000000e+00  7.00000000e+00]]\n"
     ]
    }
   ],
   "source": [
    "U,S,Vd = np.linalg.svd(M, full_matrices=False)\n",
    "print('[M]=\\n',M)\n",
    "print('[U]=\\n', U)\n",
    "print('[S]=\\n', S)\n",
    "print('[Vd]=\\n', Vd)\n",
    "\n",
    "# check\n",
    "print('[U] [S] [Vd]=\\n', U @ np.diag(S) @ Vd)"
   ]
  },
  {
   "cell_type": "markdown",
   "metadata": {},
   "source": [
    "### Orthogonal conditions\n",
    "* $U^\\dagger U=I$\n",
    "* $V^\\dagger V=I$"
   ]
  },
  {
   "cell_type": "code",
   "execution_count": 9,
   "metadata": {},
   "outputs": [
    {
     "name": "stdout",
     "output_type": "stream",
     "text": [
      "[Ud] [U]=\n",
      " [[ 1.00000000e+00 -2.91379687e-17]\n",
      " [-2.91379687e-17  1.00000000e+00]]\n",
      "[U] [Ud]=\n",
      " [[ 0.7  0.4  0.1 -0.2]\n",
      " [ 0.4  0.3  0.2  0.1]\n",
      " [ 0.1  0.2  0.3  0.4]\n",
      " [-0.2  0.1  0.4  0.7]]\n",
      "[Vd] [V]=\n",
      " [[ 1.00000000e+00 -5.98676349e-18]\n",
      " [-5.98676349e-18  1.00000000e+00]]\n",
      "[V] [Vd]=\n",
      " [[1.00000000e+00 5.98676349e-18]\n",
      " [5.98676349e-18 1.00000000e+00]]\n"
     ]
    }
   ],
   "source": [
    "Ud = np.transpose(U)\n",
    "print('[Ud] [U]=\\n', Ud @ U)\n",
    "print('[U] [Ud]=\\n', U @ Ud)\n",
    "\n",
    "V = np.transpose(Vd)\n",
    "print('[Vd] [V]=\\n', Vd @ V)\n",
    "print('[V] [Vd]=\\n', V @ Vd)"
   ]
  },
  {
   "cell_type": "markdown",
   "metadata": {},
   "source": [
    "## SVD of a 2X4 matrix"
   ]
  },
  {
   "cell_type": "code",
   "execution_count": 10,
   "metadata": {},
   "outputs": [
    {
     "name": "stdout",
     "output_type": "stream",
     "text": [
      "[M]=\n",
      " [[0 1 2 3]\n",
      " [4 5 6 7]]\n",
      "[U]=\n",
      " [[-0.29370412 -0.95589638]\n",
      " [-0.95589638  0.29370412]]\n",
      "[S]=\n",
      " [11.73352876  1.52456641]\n",
      "[Vd]=\n",
      " [[-0.32586834 -0.43236661 -0.53886488 -0.64536315]\n",
      " [ 0.77059057  0.33624265 -0.09810528 -0.5324532 ]\n",
      " [-0.38578674  0.22458489  0.70819044 -0.54698859]\n",
      " [-0.38880405  0.80595386 -0.44549557  0.02834576]]\n"
     ]
    }
   ],
   "source": [
    "# SVD of a 4X2 matrix\n",
    "M = np.array(range(8))\n",
    "# print('M=\\n', M)\n",
    "M = np.reshape(M, (2, 4))\n",
    "print('[M]=\\n',M)\n",
    "\n",
    "U,S,Vd = np.linalg.svd(M)\n",
    "print('[U]=\\n', U)\n",
    "print('[S]=\\n', S)\n",
    "print('[Vd]=\\n', Vd)"
   ]
  },
  {
   "cell_type": "markdown",
   "metadata": {},
   "source": [
    "### Check"
   ]
  },
  {
   "cell_type": "code",
   "execution_count": 11,
   "metadata": {},
   "outputs": [
    {
     "ename": "ValueError",
     "evalue": "matmul: Input operand 1 has a mismatch in its core dimension 0, with gufunc signature (n?,k),(k,m?)->(n?,m?) (size 4 is different from 2)",
     "output_type": "error",
     "traceback": [
      "\u001b[0;31m---------------------------------------------------------------------------\u001b[0m",
      "\u001b[0;31mValueError\u001b[0m                                Traceback (most recent call last)",
      "Input \u001b[0;32mIn [11]\u001b[0m, in \u001b[0;36m<cell line: 2>\u001b[0;34m()\u001b[0m\n\u001b[1;32m      1\u001b[0m \u001b[38;5;66;03m# this fails because full matrices is set to be True\u001b[39;00m\n\u001b[0;32m----> 2\u001b[0m \u001b[38;5;28mprint\u001b[39m(\u001b[38;5;124m'\u001b[39m\u001b[38;5;124mU [S] Vd=\u001b[39m\u001b[38;5;130;01m\\n\u001b[39;00m\u001b[38;5;124m'\u001b[39m, \u001b[43mU\u001b[49m\u001b[43m \u001b[49m\u001b[38;5;241;43m@\u001b[39;49m\u001b[43m \u001b[49m\u001b[43mnp\u001b[49m\u001b[38;5;241;43m.\u001b[39;49m\u001b[43mdiag\u001b[49m\u001b[43m(\u001b[49m\u001b[43mS\u001b[49m\u001b[43m)\u001b[49m\u001b[43m \u001b[49m\u001b[38;5;241;43m@\u001b[39;49m\u001b[43m \u001b[49m\u001b[43mVd\u001b[49m)\n",
      "\u001b[0;31mValueError\u001b[0m: matmul: Input operand 1 has a mismatch in its core dimension 0, with gufunc signature (n?,k),(k,m?)->(n?,m?) (size 4 is different from 2)"
     ]
    }
   ],
   "source": [
    "# this fails because full matrices is set to be True\n",
    "print('U [S] Vd=\\n', U @ np.diag(S) @ Vd)"
   ]
  },
  {
   "cell_type": "markdown",
   "metadata": {},
   "source": [
    "### Set `full_matrices=False`"
   ]
  },
  {
   "cell_type": "code",
   "execution_count": 12,
   "metadata": {},
   "outputs": [
    {
     "name": "stdout",
     "output_type": "stream",
     "text": [
      "U=\n",
      " [[-0.29370412 -0.95589638]\n",
      " [-0.95589638  0.29370412]]\n",
      "S=\n",
      " [11.73352876  1.52456641]\n",
      "Vd=\n",
      " [[-0.32586834 -0.43236661 -0.53886488 -0.64536315]\n",
      " [ 0.77059057  0.33624265 -0.09810528 -0.5324532 ]]\n",
      "U [S] Vd=\n",
      " [[-1.87949788e-15  1.00000000e+00  2.00000000e+00  3.00000000e+00]\n",
      " [ 4.00000000e+00  5.00000000e+00  6.00000000e+00  7.00000000e+00]]\n"
     ]
    }
   ],
   "source": [
    "U,S,Vd = np.linalg.svd(M, full_matrices=False)\n",
    "print('U=\\n', U)\n",
    "print('S=\\n', S)\n",
    "print('Vd=\\n', Vd)\n",
    "\n",
    "# check\n",
    "print('U [S] Vd=\\n', U @ np.diag(S) @ Vd)"
   ]
  },
  {
   "cell_type": "markdown",
   "metadata": {},
   "source": [
    "### Orthogonal conditions\n",
    "* $U^\\dagger U=I$\n",
    "* $V^\\dagger V=I$"
   ]
  },
  {
   "cell_type": "code",
   "execution_count": 13,
   "metadata": {},
   "outputs": [
    {
     "name": "stdout",
     "output_type": "stream",
     "text": [
      "[Ud] [U]=\n",
      " [[ 1.00000000e+00 -2.43462366e-16]\n",
      " [-2.43462366e-16  1.00000000e+00]]\n",
      "[U] [Ud]=\n",
      " [[ 1.00000000e+00 -3.64188934e-16]\n",
      " [-3.64188934e-16  1.00000000e+00]]\n",
      "[Vd] [V]=\n",
      " [[ 1.00000000e+00 -1.96801439e-16]\n",
      " [-1.96801439e-16  1.00000000e+00]]\n",
      "[V] [Vd]=\n",
      " [[ 0.7  0.4  0.1 -0.2]\n",
      " [ 0.4  0.3  0.2  0.1]\n",
      " [ 0.1  0.2  0.3  0.4]\n",
      " [-0.2  0.1  0.4  0.7]]\n"
     ]
    }
   ],
   "source": [
    "Ud = np.transpose(U)\n",
    "print('[Ud] [U]=\\n', Ud @ U)\n",
    "print('[U] [Ud]=\\n', U @ Ud)\n",
    "\n",
    "V = np.transpose(Vd)\n",
    "print('[Vd] [V]=\\n', Vd @ V)\n",
    "print('[V] [Vd]=\\n', V @ Vd)"
   ]
  },
  {
   "cell_type": "markdown",
   "metadata": {
    "tags": []
   },
   "source": [
    "## SVD truncation and matrix approximation\n",
    "* If we throw away some small singular values, we can constrauct an approximated matrix."
   ]
  },
  {
   "cell_type": "code",
   "execution_count": 14,
   "metadata": {},
   "outputs": [
    {
     "name": "stdout",
     "output_type": "stream",
     "text": [
      "[M]=\n",
      " [[0.69410316 0.84012354 0.75683882 0.17794192 0.26219273 0.47812639]\n",
      " [0.44400416 0.46315277 0.37900007 0.69793239 0.48037042 0.24613184]\n",
      " [0.80930596 0.29757193 0.4801326  0.61896992 0.10227588 0.75169913]\n",
      " [0.76844611 0.05039736 0.303347   0.28459688 0.22635832 0.0459779 ]\n",
      " [0.47804271 0.0512339  0.70040227 0.73353548 0.23587167 0.11879827]\n",
      " [0.43414966 0.22298451 0.67150494 0.81349836 0.13724415 0.21810445]]\n",
      "[S]=\n",
      " [2.75037051 0.81821451 0.55277742 0.4724613  0.38853444 0.09132439]\n",
      "D_cut = 1\n",
      "S_cut=\n",
      " [2.75037051 0.         0.         0.         0.         0.        ]\n",
      "Max Diff = 0.45550144090050715\n",
      "\n",
      "D_cut = 2\n",
      "S_cut=\n",
      " [2.75037051 0.81821451 0.         0.         0.         0.        ]\n",
      "Max Diff = 0.17084805789356655\n",
      "\n",
      "D_cut = 3\n",
      "S_cut=\n",
      " [2.75037051 0.81821451 0.55277742 0.         0.         0.        ]\n",
      "Max Diff = 0.261797375825578\n",
      "\n",
      "D_cut = 4\n",
      "S_cut=\n",
      " [2.75037051 0.81821451 0.55277742 0.4724613  0.         0.        ]\n",
      "Max Diff = 0.23302600839207732\n",
      "\n",
      "D_cut = 5\n",
      "S_cut=\n",
      " [2.75037051 0.81821451 0.55277742 0.4724613  0.38853444 0.        ]\n",
      "Max Diff = 0.04125858169444957\n",
      "\n",
      "D_cut = 6\n",
      "S_cut=\n",
      " [2.75037051 0.81821451 0.55277742 0.4724613  0.38853444 0.09132439]\n",
      "Max Diff = 4.440892098500626e-16\n",
      "\n"
     ]
    }
   ],
   "source": [
    "D = 6\n",
    "M = np.random.rand(D,D)\n",
    "print('[M]=\\n', M)\n",
    "\n",
    "U,S,Vd = np.linalg.svd(M)\n",
    "print('[S]=\\n', S)\n",
    "\n",
    "for D_cut in range(1,D+1):\n",
    "    print('D_cut =', D_cut)\n",
    "    S_cut = np.zeros_like(S)\n",
    "    S_cut[:D_cut] = S[:D_cut]\n",
    "    print('S_cut=\\n', S_cut)    \n",
    "    Diff = U @ np.diag(S_cut) @ Vd - M\n",
    "    print('Max Diff =', np.max(Diff))\n",
    "    print()\n"
   ]
  },
  {
   "cell_type": "code",
   "execution_count": 15,
   "metadata": {},
   "outputs": [
    {
     "name": "stdout",
     "output_type": "stream",
     "text": [
      "M=\n",
      " [[0.03 0.52 0.58 0.03 0.82 0.83 0.57 0.47]\n",
      " [0.41 0.57 0.99 0.4  0.75 0.53 0.25 0.6 ]\n",
      " [0.78 0.75 0.23 0.41 0.97 0.72 0.01 0.32]\n",
      " [0.12 0.16 0.97 0.3  0.26 0.48 0.42 0.28]\n",
      " [0.4  0.94 0.23 0.02 0.3  0.72 0.91 0.1 ]\n",
      " [0.94 0.62 0.25 0.74 0.84 0.63 0.14 0.24]\n",
      " [0.2  0.16 0.97 0.31 0.84 0.33 0.41 0.35]\n",
      " [0.82 0.15 0.7  0.63 0.63 0.96 0.34 0.21]]\n",
      "S=\n",
      " [4.12 1.32 1.14 0.73 0.47 0.33 0.14 0.08]\n",
      "D_cut = 1\n",
      "S_cut=\n",
      " [4.12 0.   0.   0.   0.   0.   0.   0.  ]\n",
      "Max Diff = 0.4506863272505986\n",
      "[[0.49 0.48 0.59 0.37 0.69 0.65 0.36 0.32]\n",
      " [0.55 0.54 0.67 0.41 0.78 0.74 0.4  0.36]\n",
      " [0.53 0.52 0.65 0.4  0.75 0.71 0.39 0.35]\n",
      " [0.36 0.36 0.44 0.27 0.51 0.49 0.27 0.24]\n",
      " [0.43 0.42 0.52 0.32 0.6  0.57 0.31 0.28]\n",
      " [0.54 0.53 0.65 0.4  0.76 0.72 0.39 0.35]\n",
      " [0.45 0.44 0.55 0.34 0.63 0.6  0.33 0.3 ]\n",
      " [0.55 0.55 0.67 0.42 0.78 0.74 0.4  0.36]]\n",
      "\n",
      "D_cut = 2\n",
      "S_cut=\n",
      " [4.12 1.32 0.   0.   0.   0.   0.   0.  ]\n",
      "Max Diff = 0.42673750305947244\n",
      "[[0.3  0.39 0.83 0.3  0.66 0.62 0.46 0.38]\n",
      " [0.39 0.46 0.88 0.35 0.75 0.71 0.49 0.42]\n",
      " [0.86 0.69 0.22 0.52 0.8  0.76 0.21 0.24]\n",
      " [0.03 0.19 0.86 0.15 0.46 0.44 0.44 0.35]\n",
      " [0.49 0.45 0.44 0.34 0.61 0.58 0.28 0.26]\n",
      " [0.9  0.71 0.19 0.54 0.81 0.77 0.2  0.23]\n",
      " [0.16 0.3  0.92 0.23 0.59 0.56 0.49 0.39]\n",
      " [0.62 0.58 0.59 0.44 0.79 0.75 0.37 0.34]]\n",
      "\n",
      "D_cut = 3\n",
      "S_cut=\n",
      " [4.12 1.32 1.14 0.   0.   0.   0.   0.  ]\n",
      "Max Diff = 0.26026059842979676\n",
      "[[ 0.21  0.59  0.71  0.13  0.58  0.71  0.68  0.35]\n",
      " [ 0.43  0.36  0.94  0.43  0.79  0.67  0.38  0.43]\n",
      " [ 0.87  0.66  0.24  0.55  0.81  0.75  0.17  0.24]\n",
      " [ 0.05  0.15  0.89  0.19  0.48  0.42  0.39  0.36]\n",
      " [ 0.29  0.94  0.16 -0.05  0.44  0.78  0.81  0.19]\n",
      " [ 0.95  0.59  0.26  0.64  0.86  0.72  0.07  0.25]\n",
      " [ 0.21  0.16  1.    0.34  0.64  0.5   0.33  0.41]\n",
      " [ 0.68  0.41  0.69  0.58  0.85  0.68  0.19  0.37]]\n",
      "\n",
      "D_cut = 4\n",
      "S_cut=\n",
      " [4.12 1.32 1.14 0.73 0.   0.   0.   0.  ]\n",
      "Max Diff = 0.1534738479157377\n",
      "[[0.12 0.68 0.68 0.06 0.74 0.63 0.58 0.45]\n",
      " [0.36 0.42 0.91 0.38 0.9  0.61 0.32 0.5 ]\n",
      " [0.77 0.74 0.2  0.47 0.98 0.66 0.07 0.35]\n",
      " [0.14 0.07 0.93 0.26 0.34 0.49 0.48 0.27]\n",
      " [0.36 0.88 0.19 0.01 0.32 0.84 0.88 0.12]\n",
      " [0.96 0.58 0.26 0.64 0.84 0.73 0.08 0.24]\n",
      " [0.17 0.2  0.99 0.3  0.72 0.46 0.29 0.46]\n",
      " [0.85 0.27 0.75 0.71 0.57 0.82 0.36 0.2 ]]\n",
      "\n",
      "D_cut = 5\n",
      "S_cut=\n",
      " [4.12 1.32 1.14 0.73 0.47 0.   0.   0.  ]\n",
      "Max Diff = 0.11554737125238324\n",
      "[[ 0.06  0.52  0.59 -0.    0.84  0.81  0.58  0.43]\n",
      " [ 0.41  0.55  0.97  0.42  0.83  0.47  0.32  0.51]\n",
      " [ 0.76  0.72  0.19  0.46  1.    0.69  0.07  0.34]\n",
      " [ 0.16  0.12  0.95  0.28  0.3   0.43  0.48  0.27]\n",
      " [ 0.39  0.95  0.23  0.04  0.27  0.75  0.88  0.12]\n",
      " [ 0.98  0.64  0.29  0.67  0.8   0.67  0.08  0.24]\n",
      " [ 0.17  0.21  0.99  0.31  0.71  0.44  0.29  0.46]\n",
      " [ 0.8   0.15  0.69  0.66  0.64  0.96  0.35  0.19]]\n",
      "\n",
      "D_cut = 6\n",
      "S_cut=\n",
      " [4.12 1.32 1.14 0.73 0.47 0.33 0.   0.  ]\n",
      "Max Diff = 0.05176841293418771\n",
      "[[ 0.06  0.52  0.59 -0.01  0.82  0.83  0.56  0.45]\n",
      " [ 0.4   0.58  0.99  0.41  0.75  0.54  0.24  0.57]\n",
      " [ 0.76  0.74  0.2   0.45  0.96  0.72  0.04  0.37]\n",
      " [ 0.15  0.14  0.97  0.27  0.26  0.47  0.43  0.31]\n",
      " [ 0.39  0.94  0.22  0.04  0.3   0.73  0.91  0.1 ]\n",
      " [ 0.98  0.62  0.28  0.68  0.85  0.63  0.13  0.21]\n",
      " [ 0.19  0.16  0.96  0.34  0.84  0.33  0.42  0.37]\n",
      " [ 0.8   0.16  0.69  0.66  0.63  0.97  0.33  0.2 ]]\n",
      "\n",
      "D_cut = 7\n",
      "S_cut=\n",
      " [4.12 1.32 1.14 0.73 0.47 0.33 0.14 0.  ]\n",
      "Max Diff = 0.03716713574030156\n",
      "[[0.03 0.52 0.58 0.03 0.82 0.83 0.57 0.47]\n",
      " [0.4  0.58 0.99 0.41 0.75 0.54 0.24 0.57]\n",
      " [0.79 0.74 0.22 0.4  0.97 0.72 0.02 0.34]\n",
      " [0.15 0.14 0.96 0.28 0.26 0.47 0.43 0.32]\n",
      " [0.4  0.94 0.23 0.03 0.3  0.72 0.91 0.09]\n",
      " [0.95 0.62 0.25 0.74 0.84 0.63 0.15 0.25]\n",
      " [0.2  0.16 0.97 0.31 0.84 0.33 0.41 0.35]\n",
      " [0.81 0.16 0.7  0.64 0.63 0.97 0.33 0.19]]\n",
      "\n",
      "D_cut = 8\n",
      "S_cut=\n",
      " [4.12 1.32 1.14 0.73 0.47 0.33 0.14 0.08]\n",
      "Max Diff = 3.1086244689504383e-15\n",
      "[[0.03 0.52 0.58 0.03 0.82 0.83 0.57 0.47]\n",
      " [0.41 0.57 0.99 0.4  0.75 0.53 0.25 0.6 ]\n",
      " [0.78 0.75 0.23 0.41 0.97 0.72 0.01 0.32]\n",
      " [0.12 0.16 0.97 0.3  0.26 0.48 0.42 0.28]\n",
      " [0.4  0.94 0.23 0.02 0.3  0.72 0.91 0.1 ]\n",
      " [0.94 0.62 0.25 0.74 0.84 0.63 0.14 0.24]\n",
      " [0.2  0.16 0.97 0.31 0.84 0.33 0.41 0.35]\n",
      " [0.82 0.15 0.7  0.63 0.63 0.96 0.34 0.21]]\n",
      "\n"
     ]
    }
   ],
   "source": [
    "D = 8\n",
    "M = np.array(range(D*D))\n",
    "M = np.random.rand(D,D)\n",
    "M = np.reshape(M, (D, D))\n",
    "with np.printoptions(precision=2, linewidth=100):\n",
    "    print('M=\\n', M)\n",
    "\n",
    "U,S,Vd = np.linalg.svd(M)\n",
    "with np.printoptions(precision=2, linewidth=100):\n",
    "    print('S=\\n', S)\n",
    "\n",
    "for D_cut in range(1,D+1):\n",
    "    print('D_cut =', D_cut)\n",
    "    S_cut = np.zeros_like(S)\n",
    "    S_cut[:D_cut] = S[:D_cut]\n",
    "    with np.printoptions(precision=2, linewidth=100):\n",
    "        print('S_cut=\\n', S_cut)    \n",
    "    Diff = U @ np.diag(S_cut) @ Vd - M\n",
    "    print('Max Diff =', np.max(Diff))\n",
    "    with np.printoptions(precision=2, linewidth=100):\n",
    "        print(U @ np.diag(S_cut) @ Vd)\n",
    "    print()\n",
    "\n"
   ]
  }
 ],
 "metadata": {
  "kernelspec": {
   "display_name": "Python 3 (ipykernel)",
   "language": "python",
   "name": "python3"
  },
  "language_info": {
   "codemirror_mode": {
    "name": "ipython",
    "version": 3
   },
   "file_extension": ".py",
   "mimetype": "text/x-python",
   "name": "python",
   "nbconvert_exporter": "python",
   "pygments_lexer": "ipython3",
   "version": "3.9.10"
  }
 },
 "nbformat": 4,
 "nbformat_minor": 4
}
