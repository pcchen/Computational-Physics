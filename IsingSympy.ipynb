{
 "cells": [
  {
   "cell_type": "code",
   "execution_count": 1,
   "id": "c0cf4774-2de5-456e-ae15-3bb0a38e37d1",
   "metadata": {},
   "outputs": [],
   "source": [
    "import numpy as np\n",
    "import matplotlib.pyplot as plt\n",
    "import sympy"
   ]
  },
  {
   "cell_type": "code",
   "execution_count": 2,
   "id": "f968f97b-dd06-45b5-a8a8-aa6440aa8319",
   "metadata": {},
   "outputs": [],
   "source": [
    "J, B, β= sympy.symbols('J B β')"
   ]
  },
  {
   "cell_type": "markdown",
   "id": "d9dfadb2-7bf9-4bc5-b5da-848f06254c1a",
   "metadata": {},
   "source": [
    "## L=1 chain"
   ]
  },
  {
   "cell_type": "code",
   "execution_count": 3,
   "id": "b4746223-acbc-4029-9f1e-262b9dd3b888",
   "metadata": {},
   "outputs": [
    {
     "data": {
      "text/latex": [
       "$\\displaystyle \\left[\\begin{matrix}e^{J β} & e^{- J β}\\\\e^{- J β} & e^{J β}\\end{matrix}\\right]$"
      ],
      "text/plain": [
       "Matrix([\n",
       "[ exp(J*β), exp(-J*β)],\n",
       "[exp(-J*β),  exp(J*β)]])"
      ]
     },
     "execution_count": 3,
     "metadata": {},
     "output_type": "execute_result"
    }
   ],
   "source": [
    "V1 = sympy.Matrix.zeros(2,2)\n",
    "V1[0,0] = sympy.exp(+β*J)\n",
    "V1[0,1] = sympy.exp(-β*J)\n",
    "V1[1,0] = sympy.exp(-β*J)\n",
    "V1[1,1] = sympy.exp(+β*J)\n",
    "V1"
   ]
  },
  {
   "cell_type": "code",
   "execution_count": 12,
   "id": "c97b44e1-1e74-4499-aff3-b5d255b79ab5",
   "metadata": {},
   "outputs": [
    {
     "data": {
      "text/latex": [
       "$\\displaystyle \\left[\\begin{matrix}e^{B β} & 0\\\\0 & e^{- B β}\\end{matrix}\\right]$"
      ],
      "text/plain": [
       "Matrix([\n",
       "[exp(B*β),         0],\n",
       "[       0, exp(-B*β)]])"
      ]
     },
     "execution_count": 12,
     "metadata": {},
     "output_type": "execute_result"
    }
   ],
   "source": [
    "V2 = sympy.Matrix.zeros(2,2)\n",
    "V2[0,0] = sympy.exp(+β*B)\n",
    "V2[1,1] = sympy.exp(-β*B)\n",
    "V2"
   ]
  },
  {
   "cell_type": "code",
   "execution_count": 5,
   "id": "c7cebd42-218c-4533-9900-1e8aad421497",
   "metadata": {},
   "outputs": [
    {
     "data": {
      "text/latex": [
       "$\\displaystyle \\left[\\begin{matrix}e^{\\frac{B β}{2}} & 0\\\\0 & e^{- \\frac{B β}{2}}\\end{matrix}\\right]$"
      ],
      "text/plain": [
       "Matrix([\n",
       "[exp(B*β/2),           0],\n",
       "[         0, exp(-B*β/2)]])"
      ]
     },
     "execution_count": 5,
     "metadata": {},
     "output_type": "execute_result"
    }
   ],
   "source": [
    "V2_sqrt = sympy.Matrix.zeros(2,2)\n",
    "V2_sqrt[0,0] = sympy.exp(+β*B/2)\n",
    "V2_sqrt[1,1] = sympy.exp(-β*B/2)\n",
    "V2_sqrt"
   ]
  },
  {
   "cell_type": "code",
   "execution_count": 6,
   "id": "9f0bf49b-b2db-4a1e-8d8b-6e74a6a31dfd",
   "metadata": {},
   "outputs": [
    {
     "data": {
      "text/latex": [
       "$\\displaystyle \\left[\\begin{matrix}e^{B β} e^{J β} & e^{- J β}\\\\e^{- J β} & e^{- B β} e^{J β}\\end{matrix}\\right]$"
      ],
      "text/plain": [
       "Matrix([\n",
       "[exp(B*β)*exp(J*β),          exp(-J*β)],\n",
       "[        exp(-J*β), exp(-B*β)*exp(J*β)]])"
      ]
     },
     "execution_count": 6,
     "metadata": {},
     "output_type": "execute_result"
    }
   ],
   "source": [
    "V2_sqrt*V1*V2_sqrt"
   ]
  },
  {
   "cell_type": "markdown",
   "id": "e1e48a75-12e6-4974-b6ee-6149385ec4bc",
   "metadata": {},
   "source": [
    "## L=2 Ladder"
   ]
  },
  {
   "cell_type": "code",
   "execution_count": 26,
   "id": "76e40c88-d1c0-474c-8689-bf372206f9dd",
   "metadata": {},
   "outputs": [
    {
     "data": {
      "text/latex": [
       "$\\displaystyle \\left[\\begin{matrix}e^{2 B β + 2 J β} & 0 & 0 & 0\\\\0 & e^{- 2 J β} & 0 & 0\\\\0 & 0 & e^{- 2 J β} & 0\\\\0 & 0 & 0 & e^{- 2 B β + 2 J β}\\end{matrix}\\right]$"
      ],
      "text/plain": [
       "Matrix([\n",
       "[exp(2*B*β + 2*J*β),           0,           0,                   0],\n",
       "[                 0, exp(-2*J*β),           0,                   0],\n",
       "[                 0,           0, exp(-2*J*β),                   0],\n",
       "[                 0,           0,           0, exp(-2*B*β + 2*J*β)]])"
      ]
     },
     "execution_count": 26,
     "metadata": {},
     "output_type": "execute_result"
    }
   ],
   "source": [
    "V2 = sympy.Matrix.zeros(4,4)\n",
    "V2[0,0] = sympy.exp(+2*β*B+2*β*J)\n",
    "V2[1,1] = sympy.exp(-2*β*J)\n",
    "V2[2,2] = sympy.exp(-2*β*J)\n",
    "V2[3,3] = sympy.exp(-2*β*B+2*β*J)\n",
    "V2"
   ]
  },
  {
   "cell_type": "code",
   "execution_count": 30,
   "id": "3e277fd6-1ca2-49c9-8ae9-54538bf67654",
   "metadata": {},
   "outputs": [
    {
     "data": {
      "text/latex": [
       "$\\displaystyle \\left[\\begin{matrix}e^{B β + J β} & 0 & 0 & 0\\\\0 & e^{- J β} & 0 & 0\\\\0 & 0 & e^{- J β} & 0\\\\0 & 0 & 0 & e^{- B β + J β}\\end{matrix}\\right]$"
      ],
      "text/plain": [
       "Matrix([\n",
       "[exp(B*β + J*β),         0,         0,               0],\n",
       "[             0, exp(-J*β),         0,               0],\n",
       "[             0,         0, exp(-J*β),               0],\n",
       "[             0,         0,         0, exp(-B*β + J*β)]])"
      ]
     },
     "execution_count": 30,
     "metadata": {},
     "output_type": "execute_result"
    }
   ],
   "source": [
    "V2_sqrt = sympy.Matrix.zeros(4,4)\n",
    "V2_sqrt[0,0] = sympy.exp((+2*β*B+2*β*J)/2)\n",
    "V2_sqrt[1,1] = sympy.exp((-2*β*J)/2)\n",
    "V2_sqrt[2,2] = sympy.exp((-2*β*J)/2)\n",
    "V2_sqrt[3,3] = sympy.exp((-2*β*B+2*β*J)/2)\n",
    "V2_sqrt"
   ]
  },
  {
   "cell_type": "code",
   "execution_count": 31,
   "id": "b236191b-f73e-4124-bc08-44aa0487d80b",
   "metadata": {},
   "outputs": [
    {
     "data": {
      "text/latex": [
       "$\\displaystyle \\left[\\begin{matrix}0 & 0 & 0 & 0\\\\0 & 0 & 0 & 0\\\\0 & 0 & 0 & 0\\\\0 & 0 & 0 & 0\\end{matrix}\\right]$"
      ],
      "text/plain": [
       "Matrix([\n",
       "[0, 0, 0, 0],\n",
       "[0, 0, 0, 0],\n",
       "[0, 0, 0, 0],\n",
       "[0, 0, 0, 0]])"
      ]
     },
     "execution_count": 31,
     "metadata": {},
     "output_type": "execute_result"
    }
   ],
   "source": [
    "V2_sqrt*V2_sqrt -V2"
   ]
  },
  {
   "cell_type": "code",
   "execution_count": 20,
   "id": "16f8d899-b8e1-4c8e-a87d-2947404dbceb",
   "metadata": {},
   "outputs": [
    {
     "data": {
      "text/latex": [
       "$\\displaystyle \\left[\\begin{matrix}e^{2 J β} & 1 & 1 & e^{- 2 J β}\\\\1 & e^{2 J β} & e^{- 2 J β} & 1\\\\1 & e^{- 2 J β} & e^{2 J β} & 1\\\\e^{- 2 J β} & 1 & 1 & e^{2 J β}\\end{matrix}\\right]$"
      ],
      "text/plain": [
       "Matrix([\n",
       "[ exp(2*J*β),           1,           1, exp(-2*J*β)],\n",
       "[          1,  exp(2*J*β), exp(-2*J*β),           1],\n",
       "[          1, exp(-2*J*β),  exp(2*J*β),           1],\n",
       "[exp(-2*J*β),           1,           1,  exp(2*J*β)]])"
      ]
     },
     "execution_count": 20,
     "metadata": {},
     "output_type": "execute_result"
    }
   ],
   "source": [
    "V1 = sympy.Matrix.zeros(4,4)\n",
    "V1[0,0] = sympy.exp(+2*β*J)\n",
    "V1[0,1] = sympy.exp(0)\n",
    "V1[0,2] = sympy.exp(0)\n",
    "V1[0,3] = sympy.exp(-2*β*J)\n",
    "\n",
    "V1[1,0] = sympy.exp(0)\n",
    "V1[1,1] = sympy.exp(+2*β*J)\n",
    "V1[1,2] = sympy.exp(-2*β*J)\n",
    "V1[1,3] = sympy.exp(0)\n",
    "\n",
    "V1[2,0] = sympy.exp(0)\n",
    "V1[2,1] = sympy.exp(-2*β*J)\n",
    "V1[2,2] = sympy.exp(+2*β*J)\n",
    "V1[2,3] = sympy.exp(0)\n",
    "\n",
    "V1[3,0] = sympy.exp(-2*β*J)\n",
    "V1[3,1] = sympy.exp(0)\n",
    "V1[3,2] = sympy.exp(0)\n",
    "V1[3,3] = sympy.exp(+2*β*J)\n",
    "\n",
    "V1"
   ]
  },
  {
   "cell_type": "code",
   "execution_count": 33,
   "id": "fbcdaa20-a3c7-4df6-8e3d-116be3627274",
   "metadata": {},
   "outputs": [
    {
     "data": {
      "text/latex": [
       "$\\displaystyle \\left[\\begin{matrix}e^{2 J β} e^{2 B β + 2 J β} & e^{- J β} e^{B β + J β} & e^{- J β} e^{B β + J β} & e^{- 2 J β} e^{- B β + J β} e^{B β + J β}\\\\e^{- J β} e^{B β + J β} & 1 & e^{- 4 J β} & e^{- J β} e^{- B β + J β}\\\\e^{- J β} e^{B β + J β} & e^{- 4 J β} & 1 & e^{- J β} e^{- B β + J β}\\\\e^{- 2 J β} e^{- B β + J β} e^{B β + J β} & e^{- J β} e^{- B β + J β} & e^{- J β} e^{- B β + J β} & e^{2 J β} e^{- 2 B β + 2 J β}\\end{matrix}\\right]$"
      ],
      "text/plain": [
       "Matrix([\n",
       "[             exp(2*J*β)*exp(2*B*β + 2*J*β),  exp(-J*β)*exp(B*β + J*β),  exp(-J*β)*exp(B*β + J*β), exp(-2*J*β)*exp(-B*β + J*β)*exp(B*β + J*β)],\n",
       "[                  exp(-J*β)*exp(B*β + J*β),                         1,               exp(-4*J*β),                  exp(-J*β)*exp(-B*β + J*β)],\n",
       "[                  exp(-J*β)*exp(B*β + J*β),               exp(-4*J*β),                         1,                  exp(-J*β)*exp(-B*β + J*β)],\n",
       "[exp(-2*J*β)*exp(-B*β + J*β)*exp(B*β + J*β), exp(-J*β)*exp(-B*β + J*β), exp(-J*β)*exp(-B*β + J*β),             exp(2*J*β)*exp(-2*B*β + 2*J*β)]])"
      ]
     },
     "execution_count": 33,
     "metadata": {},
     "output_type": "execute_result"
    }
   ],
   "source": [
    "V2_sqrt*V1*V2_sqrt"
   ]
  },
  {
   "cell_type": "code",
   "execution_count": 34,
   "id": "b0d01aa8-359e-40db-8ef4-76380d6296b2",
   "metadata": {},
   "outputs": [
    {
     "data": {
      "text/latex": [
       "$\\displaystyle \\left[\\begin{matrix}e^{2 β \\left(B + 2 J\\right)} & e^{B β} & e^{B β} & 1\\\\e^{B β} & 1 & e^{- 4 J β} & e^{- B β}\\\\e^{B β} & e^{- 4 J β} & 1 & e^{- B β}\\\\1 & e^{- B β} & e^{- B β} & e^{2 β \\left(- B + 2 J\\right)}\\end{matrix}\\right]$"
      ],
      "text/plain": [
       "Matrix([\n",
       "[exp(2*β*(B + 2*J)),    exp(B*β),    exp(B*β),                   1],\n",
       "[          exp(B*β),           1, exp(-4*J*β),           exp(-B*β)],\n",
       "[          exp(B*β), exp(-4*J*β),           1,           exp(-B*β)],\n",
       "[                 1,   exp(-B*β),   exp(-B*β), exp(2*β*(-B + 2*J))]])"
      ]
     },
     "execution_count": 34,
     "metadata": {},
     "output_type": "execute_result"
    }
   ],
   "source": [
    "sympy.simplify(V2_sqrt*V1*V2_sqrt)"
   ]
  },
  {
   "cell_type": "code",
   "execution_count": null,
   "id": "43b6a8e1-51b7-4e04-8998-ca1ee282445e",
   "metadata": {},
   "outputs": [],
   "source": []
  }
 ],
 "metadata": {
  "kernelspec": {
   "display_name": "Python 3 (ipykernel)",
   "language": "python",
   "name": "python3"
  },
  "language_info": {
   "codemirror_mode": {
    "name": "ipython",
    "version": 3
   },
   "file_extension": ".py",
   "mimetype": "text/x-python",
   "name": "python",
   "nbconvert_exporter": "python",
   "pygments_lexer": "ipython3",
   "version": "3.9.5"
  }
 },
 "nbformat": 4,
 "nbformat_minor": 5
}
